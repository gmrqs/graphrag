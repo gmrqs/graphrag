{
 "cells": [
  {
   "cell_type": "markdown",
   "metadata": {},
   "source": [
    "# Populating Neo4j Graph Database"
   ]
  },
  {
   "cell_type": "code",
   "execution_count": 146,
   "metadata": {},
   "outputs": [],
   "source": [
    "import os\n",
    "import json\n",
    "from langchain_community.graphs import Neo4jGraph\n",
    "from langchain_community.vectorstores import Neo4jVector\n",
    "from langchain_openai import OpenAIEmbeddings\n",
    "from dotenv import load_dotenv\n",
    "\n",
    "load_dotenv()\n",
    "\n",
    "NEO4J_URL = os.getenv(\"NEO4J_CONNECTION_URL\")\n",
    "NEO4J_USERNAME = os.getenv(\"NEO4J_USER\")\n",
    "NEO4J_PASSWORD = os.getenv(\"NEO4J_PASSWORD\")\n",
    "OPENAI_API_KEY = os.getenv(\"OPENAI_API_KEY\")\n",
    "\n",
    "# https://api.python.langchain.com/en/latest/graphs/langchain_community.graphs.neo4j_graph.Neo4jGraph.html\n",
    "graph = Neo4jGraph(\n",
    "    url=NEO4J_URL,\n",
    "    username=NEO4J_USERNAME,\n",
    "    password=NEO4J_PASSWORD\n",
    ")\n",
    "\n",
    "\n",
    "def wipe_graph(graph=graph):\n",
    "    graph.query(query=\"MATCH (n) DETACH DELETE n\")\n",
    "    graph.query(query=\"CALL apoc.schema.assert({},{},true) YIELD label, key RETURN *\")\n",
    "    graph.refresh_schema()\n",
    "    print(graph.get_structured_schema)"
   ]
  },
  {
   "cell_type": "code",
   "execution_count": 147,
   "metadata": {},
   "outputs": [
    {
     "name": "stdout",
     "output_type": "stream",
     "text": [
      "{'node_props': {}, 'rel_props': {}, 'relationships': [], 'metadata': {'constraint': [], 'index': []}}\n"
     ]
    }
   ],
   "source": [
    "wipe_graph()"
   ]
  },
  {
   "cell_type": "markdown",
   "metadata": {},
   "source": [
    "#### Reading database and table metadata."
   ]
  },
  {
   "cell_type": "code",
   "execution_count": 148,
   "metadata": {},
   "outputs": [],
   "source": [
    "with open(\"metadata.json\", encoding='utf-8') as file:\n",
    "    metadata = json.load(file)"
   ]
  },
  {
   "cell_type": "markdown",
   "metadata": {},
   "source": [
    "#### Creating uniqueness constraint for expected entities"
   ]
  },
  {
   "cell_type": "code",
   "execution_count": 149,
   "metadata": {},
   "outputs": [
    {
     "data": {
      "text/plain": [
       "[]"
      ]
     },
     "execution_count": 149,
     "metadata": {},
     "output_type": "execute_result"
    }
   ],
   "source": [
    "query_string = \"\"\"\n",
    "CREATE CONSTRAINT table_uniqueness_rule IF NOT EXISTS \n",
    "    FOR (tb:Table) REQUIRE tb.table_full_name IS UNIQUE\n",
    "\"\"\"\n",
    "\n",
    "graph.query(query=query_string)\n",
    "\n",
    "query_string = \"\"\"\n",
    "CREATE CONSTRAINT column_uniqueness_rule IF NOT EXISTS \n",
    "    FOR (col:Column) REQUIRE col.column_name IS UNIQUE\n",
    "\"\"\"\n",
    "\n",
    "graph.query(query=query_string)\n",
    "\n",
    "query_string = \"\"\"\n",
    "CREATE CONSTRAINT database_uniqueness_rule IF NOT EXISTS\n",
    "    FOR (db:Database) REQUIRE db.database_name IS UNIQUE\n",
    "\"\"\"\n",
    "\n",
    "graph.query(query=query_string)"
   ]
  },
  {
   "cell_type": "markdown",
   "metadata": {},
   "source": [
    "#### Creating TABLE entities"
   ]
  },
  {
   "cell_type": "code",
   "execution_count": 150,
   "metadata": {},
   "outputs": [
    {
     "name": "stdout",
     "output_type": "stream",
     "text": [
      "Entity fact_orders created successfully...\n",
      "Entity dim_order_items created successfully...\n",
      "Entity dim_sellers created successfully...\n",
      "Entity dim_products created successfully...\n",
      "Entity dim_order_reviews created successfully...\n",
      "Entity dim_order_payments created successfully...\n",
      "Entity dim_geolocation created successfully...\n",
      "Entity dim_customers created successfully...\n"
     ]
    }
   ],
   "source": [
    "for table in metadata['table_metadata']:\n",
    "\n",
    "    params = {\n",
    "        \"table_name\": table['table_name'],\n",
    "        \"database_name\": table['database_name'],\n",
    "        \"table_full_name\": '.'.join([table['database_name'], table['table_name']]),\n",
    "        \"table_logic_name\": table['table_logic_name'],\n",
    "        \"table_description\": table['table_description'],\n",
    "        \"table_columns\": [column['column_name'] for column in table['table_columns']],\n",
    "        \"table_primary_key\": table['table_primary_key']\n",
    "    }\n",
    "    query_string = \"\"\"\n",
    "    CREATE (tb:Table {\n",
    "        table_name: $table_name,\n",
    "        table_logic_name: $table_logic_name,\n",
    "        database_name: $database_name,\n",
    "        table_full_name: $table_full_name,\n",
    "        table_description: $table_description,\n",
    "        table_columns: $table_columns,\n",
    "        table_primary_key: $table_primary_key\n",
    "        }\n",
    "    )\n",
    "    \"\"\"\n",
    "\n",
    "    graph.query(query=query_string, params=params)\n",
    "\n",
    "    print(f\"Entity {table['table_name']} created successfully...\")"
   ]
  },
  {
   "cell_type": "markdown",
   "metadata": {},
   "source": [
    "#### Creating DATABASE entities"
   ]
  },
  {
   "cell_type": "code",
   "execution_count": 151,
   "metadata": {},
   "outputs": [],
   "source": [
    "for database in metadata['database_metadata']:\n",
    "\n",
    "    for table in metadata['table_metadata']:\n",
    "\n",
    "        params = {\n",
    "            \"database_name\": database['database_name'],\n",
    "            \"database_description\": database['database_description'],\n",
    "            \"table_name\": table['table_name']\n",
    "        }\n",
    "\n",
    "        query_string = \"\"\"\n",
    "        MERGE (db:Database {database_name: $database_name})\n",
    "        ON CREATE SET // On first execution creates the database entity\n",
    "            db.database_description = $database_description,\n",
    "            db.database_tables = [$table_name]\n",
    "        ON MATCH SET // Updates table list in database entity if a database with the same name exists\n",
    "            db.database_tables = db.database_tables + [$table_name]\n",
    "        \"\"\"\n",
    "\n",
    "        graph.query(query=query_string, params=params)"
   ]
  },
  {
   "cell_type": "markdown",
   "metadata": {},
   "source": [
    "#### Creating relationship CONTAINS between Database and Table entities"
   ]
  },
  {
   "cell_type": "code",
   "execution_count": 152,
   "metadata": {},
   "outputs": [
    {
     "data": {
      "text/plain": [
       "[]"
      ]
     },
     "execution_count": 152,
     "metadata": {},
     "output_type": "execute_result"
    }
   ],
   "source": [
    "query_string = \"\"\"\n",
    "    MATCH (tb:Table)\n",
    "    MATCH (db:Database)\n",
    "    WHERE tb.table_name in db.database_tables\n",
    "    CREATE (db)-[:CONTAINS]->(tb)\n",
    "\"\"\"\n",
    "\n",
    "graph.query(query=query_string)"
   ]
  },
  {
   "cell_type": "markdown",
   "metadata": {},
   "source": [
    "#### Creating Column entities"
   ]
  },
  {
   "cell_type": "code",
   "execution_count": 153,
   "metadata": {},
   "outputs": [],
   "source": [
    "for table in metadata['table_metadata']:\n",
    "    for column in table['table_columns']:\n",
    "        params = {\n",
    "            \"table_name\": table['table_name'],\n",
    "            \"column_name\": column['column_name'],\n",
    "            \"column_description\": column['column_description'],\n",
    "            \"data_type\": column['data_type']\n",
    "        }\n",
    "\n",
    "        query_string = \"\"\"\n",
    "        MATCH (tb:Table) WHERE tb.table_name = $table_name \n",
    "        MERGE (col:Column {column_name: $column_name})\n",
    "        ON CREATE SET\n",
    "            col.column_description = $column_description,\n",
    "            col.data_type = $data_type,\n",
    "            col.located_at = [$table_name],\n",
    "            col.is_primary_key_at = [],\n",
    "            col.is_foreign_key_at = []\n",
    "        ON MATCH SET\n",
    "            col.located_at = col.located_at + [tb.table_name]\n",
    "        \"\"\"\n",
    "\n",
    "        graph.query(query=query_string, params=params)"
   ]
  },
  {
   "cell_type": "markdown",
   "metadata": {},
   "source": [
    "#### Creating HAS_COLUMN relationship between Table and Column entities"
   ]
  },
  {
   "cell_type": "code",
   "execution_count": 154,
   "metadata": {},
   "outputs": [
    {
     "data": {
      "text/plain": [
       "[]"
      ]
     },
     "execution_count": 154,
     "metadata": {},
     "output_type": "execute_result"
    }
   ],
   "source": [
    "query_string = \"\"\" \n",
    "    MATCH (tb:Table)\n",
    "    MATCH (col:Column)\n",
    "    WHERE tb.table_name in col.located_at\n",
    "    CREATE (tb)-[:HAS_COLUMN]->(col)\n",
    "\"\"\"\n",
    "\n",
    "graph.query(query=query_string)"
   ]
  },
  {
   "cell_type": "markdown",
   "metadata": {},
   "source": [
    "#### Creating IS_PRIMARY_KEY relationship between Column and Table entities"
   ]
  },
  {
   "cell_type": "code",
   "execution_count": 155,
   "metadata": {},
   "outputs": [
    {
     "data": {
      "text/plain": [
       "[]"
      ]
     },
     "execution_count": 155,
     "metadata": {},
     "output_type": "execute_result"
    }
   ],
   "source": [
    "query_string = \"\"\" \n",
    "    MATCH (tb:Table)\n",
    "    MATCH (col:Column) WHERE col.column_name in tb.table_primary_key\n",
    "    MERGE (col)-[pk:IS_PRIMARY_KEY]->(tb)\n",
    "\"\"\"\n",
    "\n",
    "graph.query(query=query_string)"
   ]
  },
  {
   "cell_type": "markdown",
   "metadata": {},
   "source": [
    "#### Creating _is_primary_key_at_ property in all Column entities"
   ]
  },
  {
   "cell_type": "code",
   "execution_count": 156,
   "metadata": {},
   "outputs": [
    {
     "data": {
      "text/plain": [
       "[]"
      ]
     },
     "execution_count": 156,
     "metadata": {},
     "output_type": "execute_result"
    }
   ],
   "source": [
    "query_string = \"\"\" \n",
    "    MATCH (tb:Table)\n",
    "    MATCH (col:Column) WHERE col.column_name in tb.table_primary_key\n",
    "    SET col.is_primary_key_at = col.is_primary_key_at + tb.table_name\n",
    "\"\"\"\n",
    "\n",
    "graph.query(query=query_string)"
   ]
  },
  {
   "cell_type": "markdown",
   "metadata": {},
   "source": [
    "#### Creating _is_foreign_key_at_ property in all Column entities"
   ]
  },
  {
   "cell_type": "code",
   "execution_count": 157,
   "metadata": {},
   "outputs": [
    {
     "data": {
      "text/plain": [
       "[]"
      ]
     },
     "execution_count": 157,
     "metadata": {},
     "output_type": "execute_result"
    }
   ],
   "source": [
    "query_string = \"\"\"\n",
    "MATCH (tb:Table)\n",
    "MATCH (col:Column)\n",
    "WHERE (col)-[:IS_PRIMARY_KEY]->(tb)\n",
    "SET col.is_foreign_key_at = apoc.coll.disjunction(col.located_at, [tb.table_name])\n",
    "\"\"\"\n",
    "\n",
    "graph.query(query=query_string)"
   ]
  },
  {
   "cell_type": "markdown",
   "metadata": {},
   "source": [
    "#### Creating IS_FOREIGN_KEY relationship between Column and Tables entities "
   ]
  },
  {
   "cell_type": "code",
   "execution_count": 158,
   "metadata": {},
   "outputs": [
    {
     "data": {
      "text/plain": [
       "[]"
      ]
     },
     "execution_count": 158,
     "metadata": {},
     "output_type": "execute_result"
    }
   ],
   "source": [
    "query_string = \"\"\" \n",
    "    MATCH (tb:Table)\n",
    "    MATCH (col:Column) WHERE tb.table_name in col.is_foreign_key_at\n",
    "    MERGE (col)-[:IS_FOREIGN_KEY]->(tb)\n",
    "\"\"\"\n",
    "\n",
    "graph.query(query=query_string)"
   ]
  },
  {
   "cell_type": "markdown",
   "metadata": {},
   "source": [
    "### Creating Vector Index"
   ]
  },
  {
   "cell_type": "code",
   "execution_count": 159,
   "metadata": {},
   "outputs": [
    {
     "data": {
      "text/plain": [
       "[]"
      ]
     },
     "execution_count": 159,
     "metadata": {},
     "output_type": "execute_result"
    }
   ],
   "source": [
    "graph.query(\"\"\"\n",
    "         CREATE VECTOR INDEX `database_embeddings` IF NOT EXISTS\n",
    "          FOR (db:Database) ON (db.text_embeddings) \n",
    "          OPTIONS { indexConfig: {\n",
    "            `vector.dimensions`: 1536,\n",
    "            `vector.similarity_function`: 'cosine'    \n",
    "         }}\n",
    "\"\"\")\n",
    "\n",
    "graph.query(\"\"\"\n",
    "         CREATE VECTOR INDEX `table_embeddings` IF NOT EXISTS\n",
    "          FOR (tb:Table) ON (tb.text_embeddings) \n",
    "          OPTIONS { indexConfig: {\n",
    "            `vector.dimensions`: 1536,\n",
    "            `vector.similarity_function`: 'cosine'    \n",
    "         }}\n",
    "\"\"\")\n",
    "\n",
    "graph.query(\"\"\"\n",
    "         CREATE VECTOR INDEX `columns_embeddings` IF NOT EXISTS\n",
    "          FOR (col:Column) ON (col.text_embeddings) \n",
    "          OPTIONS { indexConfig: {\n",
    "            `vector.dimensions`: 1536,\n",
    "            `vector.similarity_function`: 'cosine'    \n",
    "         }}\n",
    "\"\"\")"
   ]
  },
  {
   "cell_type": "code",
   "execution_count": 165,
   "metadata": {},
   "outputs": [
    {
     "name": "stdout",
     "output_type": "stream",
     "text": [
      "Node properties:\n",
      "Database {database_description: STRING, database_name: STRING, database_tables: LIST}\n",
      "Table {table_logic_name: STRING, table_name: STRING, table_columns: LIST, table_primary_key: LIST, database_name: STRING, table_full_name: STRING, table_description: STRING}\n",
      "Column {data_type: STRING, is_primary_key_at: LIST, is_foreign_key_at: LIST, column_name: STRING, column_description: STRING, located_at: LIST}\n",
      "Relationship properties:\n",
      "\n",
      "The relationships:\n",
      "(:Database)-[:CONTAINS]->(:Table)\n",
      "(:Table)-[:HAS_COLUMN]->(:Column)\n",
      "(:Column)-[:IS_FOREIGN_KEY]->(:Table)\n",
      "(:Column)-[:IS_PRIMARY_KEY]->(:Table)\n"
     ]
    }
   ],
   "source": [
    "graph.refresh_schema()\n",
    "\n",
    "print(graph.get_schema)"
   ]
  },
  {
   "cell_type": "markdown",
   "metadata": {},
   "source": [
    "#### Creating _text_embedding_ property in all entities and populate them with Embeddings Vector\n",
    "\n",
    "We'll use those later to execute similarity search"
   ]
  },
  {
   "cell_type": "code",
   "execution_count": 167,
   "metadata": {},
   "outputs": [],
   "source": [
    "database_vector = Neo4jVector.from_existing_graph(\n",
    "    OpenAIEmbeddings(),\n",
    "    url=NEO4J_URL,\n",
    "    username=NEO4J_USERNAME,\n",
    "    password=NEO4J_PASSWORD,\n",
    "    index_name=\"database_embeddings\",\n",
    "    node_label=\"Database\",\n",
    "    text_node_properties=[\"database_name\", \"database_description\"],\n",
    "    embedding_node_property=\"text_embeddings\"\n",
    ")\n",
    "\n",
    "table_vector = Neo4jVector.from_existing_graph(\n",
    "    OpenAIEmbeddings(),\n",
    "    url=NEO4J_URL,\n",
    "    username=NEO4J_USERNAME,\n",
    "    password=NEO4J_PASSWORD,\n",
    "    index_name=\"table_embeddings\",\n",
    "    node_label=\"Table\",\n",
    "    text_node_properties=[\"table_name\",\"table_logic_name\", \"table_description\"],\n",
    "    embedding_node_property=\"text_embeddings\"\n",
    ")\n",
    "\n",
    "column_vector = Neo4jVector.from_existing_graph(\n",
    "    OpenAIEmbeddings(),\n",
    "    url=NEO4J_URL,\n",
    "    username=NEO4J_USERNAME,\n",
    "    password=NEO4J_PASSWORD,\n",
    "    index_name=\"column_embeddings\",\n",
    "    node_label=\"Column\",\n",
    "    text_node_properties=[\"column_name\",\"column_logic_name\", \"column_description\"],\n",
    "    embedding_node_property=\"text_embeddings\"\n",
    ")"
   ]
  },
  {
   "cell_type": "code",
   "execution_count": 345,
   "metadata": {},
   "outputs": [
    {
     "data": {
      "text/plain": [
       "[(Document(page_content='\\ntable_name: dim_products\\ntable_logic_name: Tabela dimensão de produtos\\ntable_description: A tabela `dim_products` representa a dimensão produtos no e-commerce Olist. Nela são catalogados todos os produtos da plataforma do e-commerce assim como informações sobre eles como a categoria dos produtos, o peso, largura, comprimento, altura, comprimento da descrição do produto e quantidade de fotos disponíveis.', metadata={'database_name': 'olist', 'table_full_name': 'olist.dim_products', 'table_primary_key': ['product_id'], 'table_columns': ['product_id', 'product_category_name', 'product_name_length', 'product_description_length', 'product_photos_qty', 'product_weight_g', 'product_length_cm', 'product_height_cm', 'product_width_cm']}),\n",
       "  0.8784782886505127),\n",
       " (Document(page_content='\\ntable_name: dim_sellers\\ntable_logic_name: Tabela dimensão de vendedores\\ntable_description: A tabela `dim_sellers` contém todos os vendedores da plataforma. A tabela contem identificação do vendedor, seu prefixo de código postal (CEP), sua cidade e seu estado ou UF (Unidade Federativa). No e-commerce cada produto pode ser vendido por um vendedor distinto e cada pedido pode ter produtos de vendedores distintos.', metadata={'database_name': 'olist', 'table_full_name': 'olist.dim_sellers', 'table_primary_key': ['seller_id'], 'table_columns': ['seller_id', 'seller_zip_code_prefix', 'seller_city', 'seller_state']}),\n",
       "  0.8731117248535156)]"
      ]
     },
     "execution_count": 345,
     "metadata": {},
     "output_type": "execute_result"
    }
   ],
   "source": [
    "table_vector.similarity_search_with_relevance_scores(\"Quais os 5 produtos mais vendidos em 2018?\",k=2)"
   ]
  },
  {
   "cell_type": "code",
   "execution_count": 413,
   "metadata": {},
   "outputs": [
    {
     "data": {
      "text/plain": [
       "['dim_order_items', 'dim_products', 'fact_orders']"
      ]
     },
     "execution_count": 413,
     "metadata": {},
     "output_type": "execute_result"
    }
   ],
   "source": [
    "def fetch_relevant_tables_by_column(column_vector: Neo4jVector, prompt: str, top_k: int = 5) -> list:\n",
    "\n",
    "    similarity_search_result = column_vector.similarity_search_with_relevance_scores(query=prompt, k=top_k)\n",
    "\n",
    "    dict_list = [\n",
    "            {\n",
    "                'located_at': t[0].metadata['located_at'],\n",
    "                'score': t[1]\n",
    "            }\n",
    "        for t in similarity_search_result\n",
    "    ]\n",
    "\n",
    "    flattened_list = [(item, entry['score']) for entry in dict_list for item in entry['located_at']]\n",
    "\n",
    "    flattened_list.sort(key=lambda x: x[1], reverse=True)\n",
    "\n",
    "    seen = set()\n",
    "    relevant_tables = []\n",
    "    for item, score in flattened_list:\n",
    "        if item not in seen:\n",
    "            seen.add(item)\n",
    "            relevant_tables.append(item)\n",
    "\n",
    "    return relevant_tables\n",
    "\n",
    "fetch_relevant_tables_by_column(column_vector=column_vector, prompt='Quais os 5 produtos mais vendidos em 2018?')"
   ]
  },
  {
   "cell_type": "code",
   "execution_count": 414,
   "metadata": {},
   "outputs": [
    {
     "data": {
      "text/plain": [
       "['dim_products',\n",
       " 'dim_sellers',\n",
       " 'dim_customers',\n",
       " 'fact_orders',\n",
       " 'dim_order_items']"
      ]
     },
     "execution_count": 414,
     "metadata": {},
     "output_type": "execute_result"
    }
   ],
   "source": [
    "def fetch_relevant_tables(table_vector: Neo4jVector, prompt: str, top_k: int = 5) -> list:\n",
    "    \n",
    "    query_result = table_vector.similarity_search_with_relevance_scores(query=prompt, k=top_k)\n",
    "\n",
    "    dict_list = [\n",
    "            {\n",
    "                'table_name': t[0].metadata['table_full_name'].split('.')[1],\n",
    "                'score': t[1]\n",
    "            }\n",
    "        for t in query_result\n",
    "    ]\n",
    "    relevant_tables = [x['table_name'] for x in dict_list]\n",
    "\n",
    "    return relevant_tables\n",
    "\n",
    "\n",
    "fetch_relevant_tables(table_vector=table_vector, prompt='Quais os 5 produtos mais vendidos em 2018?')"
   ]
  },
  {
   "cell_type": "markdown",
   "metadata": {},
   "source": [
    "#### Fetching Columns related to relevant Tables"
   ]
  },
  {
   "cell_type": "code",
   "execution_count": 416,
   "metadata": {},
   "outputs": [],
   "source": [
    "relevant_tables = fetch_relevant_tables_by_column(prompt=\"Quais os 5 produtos mais vendidos em 2018?\", column_vector=column_vector)\n",
    "\n",
    "def fetch_table_columns(tables: list):\n",
    "\n",
    "    query_string = \"\"\" \n",
    "        MATCH (tb:Table)-[:HAS_COLUMN]->(col:Column)\n",
    "        WHERE tb.table_name in $relevant_tables\n",
    "        WITH tb, collect({\n",
    "            column_name: col.column_name,\n",
    "            data_type: col.data_type,\n",
    "            column_description: col.column_description\n",
    "        }) AS columns\n",
    "        RETURN {\n",
    "            database_name: tb.database_name,\n",
    "            table_name: tb.table_name,\n",
    "            table_description: tb.table_description,\n",
    "            table_columns: columns\n",
    "        } AS table\n",
    "    \"\"\"\n",
    "\n",
    "    params = {'relevant_tables': tables}\n",
    "\n",
    "    result = graph.query(query=query_string, params=params)\n",
    "\n",
    "    result = [x['table'] for x in result]\n",
    "\n",
    "    return result\n"
   ]
  },
  {
   "cell_type": "code",
   "execution_count": 419,
   "metadata": {},
   "outputs": [
    {
     "data": {
      "text/plain": [
       "[{'table_description': 'A tabela `fact_orders` contém todos os pedidos realizados na plataforma de e-commerce Olist. A tabela contém informações dos pedidos como identificação do pedido, status do pedido, data da compra, data da entrega, identificador do cliente,',\n",
       "  'database_name': 'olist',\n",
       "  'table_name': 'fact_orders',\n",
       "  'table_columns': [{'data_type': 'timestamp',\n",
       "    'column_name': 'order_estimated_delivery_date',\n",
       "    'column_description': 'A coluna `order_estimated_delivery_date` representa a data estimada da entrega do pedido para o cliente.'},\n",
       "   {'data_type': 'timestamp',\n",
       "    'column_name': 'order_delivered_customer_date',\n",
       "    'column_description': 'A coluna `order_delivered_customer_date` representa a data e horário que o pedido foi entregue ao cliente final.'},\n",
       "   {'data_type': 'timestamp',\n",
       "    'column_name': 'order_delivered_carrier_date',\n",
       "    'column_description': 'A coluna `order_delivered_carrier_date` representa a data e horário que o pedido foi para o entregador responsável pelo frete.'},\n",
       "   {'data_type': 'timestamp',\n",
       "    'column_name': 'order_approved_at',\n",
       "    'column_description': 'A coluna `order_approved_at` representa a data e horário da aprovação do pedido.'},\n",
       "   {'data_type': 'timestamp',\n",
       "    'column_name': 'order_purchase_timestamp',\n",
       "    'column_description': 'A coluna `order_purchase_timestamp` representa a data e horário da criação do pedido. É o momento que o cliente realiza a compra.'},\n",
       "   {'data_type': 'string',\n",
       "    'column_name': 'order_status',\n",
       "    'column_description': 'A coluna `order_status` representa o estado em que o pedido se encontra no momento. O estado da compra pode ser entregue (delivered), processando (processing), cancelado (canceled), enviado (shipped), faturado (invoiced), indisponível (unavailable) e criado (created). O ciclo de vida do pedido começa quando a criação do pedido, onde ele está em estado criado (created). Em seguida o pedido vai para estado faturado (invoiced) onde é emitida a fatura para o cliente realizar o pagamento. Após o pagamento da fatura, o pedido então passa por um estado de processamento (processing) onde o pedido é separado para envio pela loja. Após processamento, o pedido entra no estado enviado (shipped) até que seja entregue pelo entregador. Após confirmação da entrega o pedido entra no estado entregue (delivered). O pedido em qualquer momento do ciclo de vida pode assumir o estado cancelado (canceled) e após o estado processando (processing) ele também pode ser marcado como indisponível (unavailable).'},\n",
       "   {'data_type': 'string',\n",
       "    'column_name': 'customer_id',\n",
       "    'column_description': 'A coluna `customer_id` é o código identificador de um cliente no pedido.'},\n",
       "   {'data_type': 'string',\n",
       "    'column_name': 'order_id',\n",
       "    'column_description': 'A coluna `order_id` é um identificador único do pedido.'}]},\n",
       " {'table_description': 'A tabela `dim_order_items` contém todos os items que compoem um pedido. Um pedido pode ter um ou mais items associados à ele. A tabela contem também informações relevantes como identificação do produto, identificação do vendedor, valor de venda e valor de frete do item.',\n",
       "  'database_name': 'olist',\n",
       "  'table_name': 'dim_order_items',\n",
       "  'table_columns': [{'data_type': 'float',\n",
       "    'column_name': 'freight_value',\n",
       "    'column_description': 'A coluna `freght_value` é o valor do frete do item do pedido.'},\n",
       "   {'data_type': 'float',\n",
       "    'column_name': 'price',\n",
       "    'column_description': 'A coluna `price` é o preço do item do pedido associado ao produto.'},\n",
       "   {'data_type': 'timestamp',\n",
       "    'column_name': 'shipping_limit_date',\n",
       "    'column_description': 'A coluna `shipping_limit_date` representa a data limite para envio do item'},\n",
       "   {'data_type': 'string',\n",
       "    'column_name': 'seller_id',\n",
       "    'column_description': 'A coluna `seller_id` é o identificador único do vendedor.'},\n",
       "   {'data_type': 'string',\n",
       "    'column_name': 'product_id',\n",
       "    'column_description': 'A coluna `product_id` é um identificador único do produto.'},\n",
       "   {'data_type': 'string',\n",
       "    'column_name': 'order_item_id',\n",
       "    'column_description': 'A coluna `order_item_id` é o número sequencial do item do pedido. Cada pedido pode ter um ou mais items, cada um com um número sequencial associado.'},\n",
       "   {'data_type': 'string',\n",
       "    'column_name': 'order_id',\n",
       "    'column_description': 'A coluna `order_id` é um identificador único do pedido.'}]},\n",
       " {'table_description': 'A tabela `dim_products` representa a dimensão produtos no e-commerce Olist. Nela são catalogados todos os produtos da plataforma do e-commerce assim como informações sobre eles como a categoria dos produtos, o peso, largura, comprimento, altura, comprimento da descrição do produto e quantidade de fotos disponíveis.',\n",
       "  'database_name': 'olist',\n",
       "  'table_name': 'dim_products',\n",
       "  'table_columns': [{'data_type': 'float',\n",
       "    'column_name': 'product_length_cm',\n",
       "    'column_description': 'A coluna `product_length_cm` apresenta o comprimento do produto em centímetros.'},\n",
       "   {'data_type': 'float',\n",
       "    'column_name': 'product_width_cm',\n",
       "    'column_description': 'A coluna `product_width_cm` apresenta a largura do produto em centímetros.'},\n",
       "   {'data_type': 'float',\n",
       "    'column_name': 'product_weight_g',\n",
       "    'column_description': 'A coluna `product_weight` apresenta o peso em gramas do produto.'},\n",
       "   {'data_type': 'float',\n",
       "    'column_name': 'product_height_cm',\n",
       "    'column_description': 'A coluna `product_height_cm` apresenta a altura do produto em centímetros.'},\n",
       "   {'data_type': 'integer',\n",
       "    'column_name': 'product_photos_qty',\n",
       "    'column_description': 'A coluna `product_photos_qty` contém a quantidade de fotos que existe no anúncio do produto'},\n",
       "   {'data_type': 'integer',\n",
       "    'column_name': 'product_description_length',\n",
       "    'column_description': 'A coluna `product_description_length` representa o comprimento da descrição do produto em número de caracteres.'},\n",
       "   {'data_type': 'integer',\n",
       "    'column_name': 'product_name_length',\n",
       "    'column_description': 'A coluna `product_name_length` representa o comprimento do nome do produto em número de caracteres.'},\n",
       "   {'data_type': 'string',\n",
       "    'column_name': 'product_category_name',\n",
       "    'column_description': 'A coluna `product_category_name` é o nome da categoria do produto.'},\n",
       "   {'data_type': 'string',\n",
       "    'column_name': 'product_id',\n",
       "    'column_description': 'A coluna `product_id` é um identificador único do produto.'}]}]"
      ]
     },
     "execution_count": 419,
     "metadata": {},
     "output_type": "execute_result"
    }
   ],
   "source": [
    "def get_sql_context(user_prompt: str) -> str:\n",
    "    relevant_tables = fetch_relevant_tables_by_column(prompt=user_prompt, column_vector=column_vector)\n",
    "\n",
    "    context = fetch_table_columns(tables=relevant_tables)\n",
    "\n",
    "    return context \n",
    "\n",
    "context=get_sql_context(user_prompt=\"Quais os 5 produtos mais vendidos em 2018?\")\n",
    "context"
   ]
  },
  {
   "cell_type": "code",
   "execution_count": 430,
   "metadata": {},
   "outputs": [
    {
     "name": "stdout",
     "output_type": "stream",
     "text": [
      "\n",
      "\n",
      "    Database: olist\n",
      "    Tabela: fact_orders\n",
      "    Descrição: A tabela `fact_orders` contém todos os pedidos realizados na plataforma de e-commerce Olist. A tabela contém informações dos pedidos como identificação do pedido, status do pedido, data da compra, data da entrega, identificador do cliente,\n",
      "    Colunas: \n",
      "        order_estimated_delivery_date : timestamp\n",
      "    \n",
      "\n",
      "\n",
      "    Database: olist\n",
      "    Tabela: dim_order_items\n",
      "    Descrição: A tabela `dim_order_items` contém todos os items que compoem um pedido. Um pedido pode ter um ou mais items associados à ele. A tabela contem também informações relevantes como identificação do produto, identificação do vendedor, valor de venda e valor de frete do item.\n",
      "    Colunas: \n",
      "        freight_value : float\n",
      "    \n",
      "\n",
      "\n",
      "    Database: olist\n",
      "    Tabela: dim_products\n",
      "    Descrição: A tabela `dim_products` representa a dimensão produtos no e-commerce Olist. Nela são catalogados todos os produtos da plataforma do e-commerce assim como informações sobre eles como a categoria dos produtos, o peso, largura, comprimento, altura, comprimento da descrição do produto e quantidade de fotos disponíveis.\n",
      "    Colunas: \n",
      "        product_length_cm : float\n",
      "    \n"
     ]
    }
   ],
   "source": [
    "for table in context:\n",
    "    context_template = f\"\"\"\n",
    "\n",
    "    Database: {table['database_name']}\n",
    "    Tabela: {table['table_name']}\n",
    "    Descrição: {table['table_description']}\n",
    "    Colunas: \n",
    "        {table['table_columns'][0]['column_name']} : {table['table_columns'][0]['data_type']}\n",
    "    \"\"\"\n",
    "\n",
    "    print(context_template)\n",
    "\n"
   ]
  },
  {
   "cell_type": "code",
   "execution_count": 86,
   "metadata": {},
   "outputs": [],
   "source": [
    "schema_description = graph.query(\n",
    "    query=\"CALL apoc.ml.schema({apiKey: $openai_api_key, model: 'gpt-4o'}) yield value RETURN *\",\n",
    "    params={\"openai_api_key\": OPENAI_API_KEY}\n",
    "    )"
   ]
  },
  {
   "cell_type": "code",
   "execution_count": 96,
   "metadata": {},
   "outputs": [
    {
     "name": "stdout",
     "output_type": "stream",
     "text": [
      "The schema represents a database catalog structure, where:\n",
      "1. A `:Database` node represents a specific database.\n",
      "2. A `:Table` node represents tables within the database.\n",
      "3. The relationship `:CONTAINS` links `:Database` to its `:Table` nodes.\n",
      "4. The relationship `:HAS_COLUMN` links a `:Table` node to its columns.\n",
      "5. Each `:Table` includes metadata such as logic name, primary key, and description.\n"
     ]
    }
   ],
   "source": [
    "print(schema_description[0][\"value\"])"
   ]
  },
  {
   "cell_type": "markdown",
   "metadata": {},
   "source": [
    "## Creating Agents"
   ]
  },
  {
   "cell_type": "code",
   "execution_count": 395,
   "metadata": {},
   "outputs": [],
   "source": [
    "from langchain_openai import ChatOpenAI\n",
    "from langchain_core.prompts import ChatPromptTemplate\n",
    "from typing import List\n",
    "from langchain_core.output_parsers import PydanticOutputParser\n",
    "from pydantic import BaseModel, Field\n",
    "\n",
    "llm = ChatOpenAI(model='gpt-4o')\n"
   ]
  },
  {
   "cell_type": "markdown",
   "metadata": {},
   "source": [
    "#### Query Expansion Agent"
   ]
  },
  {
   "cell_type": "code",
   "execution_count": 400,
   "metadata": {},
   "outputs": [],
   "source": [
    "class QueryExpansionResponse(BaseModel):\n",
    "    input: str = Field(description=\"The original user prompt.\")\n",
    "    output: List[str] = Field(description=\"A list of sentences.\")\n",
    "\n",
    "parser = PydanticOutputParser(pydantic_object=QueryExpansionResponse)\n",
    "\n",
    "prompt = ChatPromptTemplate.from_messages([\n",
    "    (\"system\", \n",
    "     \"\"\"\n",
    "Você é um especialista em parafrasear frases.\n",
    "O usuário irá te enviar uma pergunta ou solicitação\n",
    "e você deverá parafraseá-la.\n",
    "Mantenha o sentido original da frase.\n",
    "As frases devem ser em português brasileiro.\n",
    "Gere pelo menos 5 frases diferentes.\n",
    "Sua resposta deverá ser apenas a lista de frase separadas por vírgulas.\n",
    "Não complemente ou formate sua resposta com caracteres especiais ou de escape.\n",
    "\"Answer the user query. Wrap the output in `json` tags\\n{format_instructions}\"\n",
    "     \"\"\"),\n",
    "    (\"user\", \"{input}\")\n",
    "]).partial(format_instructions=parser.get_format_instructions())\n",
    "\n",
    "query_expansion_chain = prompt | llm | parser\n"
   ]
  },
  {
   "cell_type": "code",
   "execution_count": 401,
   "metadata": {},
   "outputs": [
    {
     "data": {
      "text/plain": [
       "['Quais foram os 5 produtos mais populares em vendas em 2018?',\n",
       " 'Quais são os cinco itens com maior número de vendas em 2018?',\n",
       " 'Quais os cinco produtos com mais comercialização em 2018?',\n",
       " 'Quais foram os produtos mais vendidos no ano de 2018?',\n",
       " 'Quais são os top 5 produtos mais vendidos em 2018?']"
      ]
     },
     "execution_count": 401,
     "metadata": {},
     "output_type": "execute_result"
    }
   ],
   "source": [
    "paraphrased_prompt = query_expansion_chain.invoke({\"input\": \"Quais os 5 produtos mais vendidos em 2018?\"})\n",
    "paraphrased_prompt.output"
   ]
  },
  {
   "cell_type": "code",
   "execution_count": 397,
   "metadata": {},
   "outputs": [],
   "source": [
    "prompt = ChatPromptTemplate.from_messages([\n",
    "    (\"system\", \n",
    "     \"\"\"\n",
    "Você é um especialista em análise de negócios e investigação.\n",
    "O usuário irá te enviar uma pergunta ou solicitação.\n",
    "Você deve criar pelo menos outras 5 perguntas que colaborem\n",
    "para o usuário tenha sua pergunta respondida.\n",
    "\n",
    "\"Answer the user query. Wrap the output in `json` tags\\n{format_instructions}\"\n",
    "     \"\"\"),\n",
    "    (\"user\", \"{input}\")\n",
    "]).partial(format_instructions=parser.get_format_instructions())\n",
    "\n",
    "query_expansion_chain = prompt | llm | parser"
   ]
  },
  {
   "cell_type": "code",
   "execution_count": 398,
   "metadata": {},
   "outputs": [
    {
     "data": {
      "text/plain": [
       "['Qual é o setor ou indústria de interesse?',\n",
       " 'A que região ou país você está se referindo?',\n",
       " 'Você está interessado em produtos físicos, digitais ou ambos?',\n",
       " 'Você tem uma fonte de dados específica ou um site de referência em mente?',\n",
       " 'Você está se referindo a unidades vendidas ou ao valor de vendas?']"
      ]
     },
     "execution_count": 398,
     "metadata": {},
     "output_type": "execute_result"
    }
   ],
   "source": [
    "paraphrased_prompt = query_expansion_chain.invoke({\"input\": \"Quais os 5 produtos mais vendidos em 2018?\"})\n",
    "paraphrased_prompt.output"
   ]
  },
  {
   "cell_type": "markdown",
   "metadata": {},
   "source": [
    "#### SQL Agent"
   ]
  },
  {
   "cell_type": "code",
   "execution_count": 409,
   "metadata": {},
   "outputs": [],
   "source": [
    "from langchain.chains.combine_documents import create_stuff_documents_chain\n",
    "from langchain.chains import create_retrieval_chain\n",
    "from langchain import hub\n",
    "\n",
    "\n"
   ]
  },
  {
   "cell_type": "code",
   "execution_count": 412,
   "metadata": {},
   "outputs": [
    {
     "data": {
      "text/plain": [
       "{'input': 'Quais os 5 produtos mais vendidos em 2018?',\n",
       " 'context': [Document(page_content='\\ntable_name: dim_products\\ntable_logic_name: Tabela dimensão de produtos\\ntable_description: A tabela `dim_products` representa a dimensão produtos no e-commerce Olist. Nela são catalogados todos os produtos da plataforma do e-commerce assim como informações sobre eles como a categoria dos produtos, o peso, largura, comprimento, altura, comprimento da descrição do produto e quantidade de fotos disponíveis.', metadata={'database_name': 'olist', 'table_full_name': 'olist.dim_products', 'table_primary_key': ['product_id'], 'table_columns': ['product_id', 'product_category_name', 'product_name_length', 'product_description_length', 'product_photos_qty', 'product_weight_g', 'product_length_cm', 'product_height_cm', 'product_width_cm']}),\n",
       "  Document(page_content='\\ntable_name: dim_sellers\\ntable_logic_name: Tabela dimensão de vendedores\\ntable_description: A tabela `dim_sellers` contém todos os vendedores da plataforma. A tabela contem identificação do vendedor, seu prefixo de código postal (CEP), sua cidade e seu estado ou UF (Unidade Federativa). No e-commerce cada produto pode ser vendido por um vendedor distinto e cada pedido pode ter produtos de vendedores distintos.', metadata={'database_name': 'olist', 'table_full_name': 'olist.dim_sellers', 'table_primary_key': ['seller_id'], 'table_columns': ['seller_id', 'seller_zip_code_prefix', 'seller_city', 'seller_state']}),\n",
       "  Document(page_content='\\ntable_name: dim_customers\\ntable_logic_name: Tabela dimensão de clientes\\ntable_description: A tabela `dim_customers` contém informações dos clientes do e-commerce Olist. A tabela contém informações como código indentificador do cliente, prefixo do código postal (CEP) além de cidade e estado ou UF (unidade federativa) de residência.', metadata={'database_name': 'olist', 'table_full_name': 'olist.dim_customers', 'table_primary_key': ['customer_id'], 'table_columns': ['customer_id', 'customer_unique_id', 'customer_zip_code_prefix', 'customer_city', 'customer_state']}),\n",
       "  Document(page_content='\\ntable_name: fact_orders\\ntable_logic_name: Tabela fato de pedidos\\ntable_description: A tabela `fact_orders` contém todos os pedidos realizados na plataforma de e-commerce Olist. A tabela contém informações dos pedidos como identificação do pedido, status do pedido, data da compra, data da entrega, identificador do cliente,', metadata={'database_name': 'olist', 'table_full_name': 'olist.fact_orders', 'table_primary_key': ['order_id'], 'table_columns': ['order_id', 'customer_id', 'order_status', 'order_purchase_timestamp', 'order_approved_at', 'order_delivered_carrier_date', 'order_delivered_customer_date', 'order_estimated_delivery_date']})],\n",
       " 'answer': 'O contexto fornecido não contém informações específicas sobre os produtos mais vendidos em 2018. Os dados disponíveis apenas descrevem a estrutura e o propósito das tabelas `dim_products`, `dim_sellers`, `dim_customers` e `fact_orders`. Para obter a lista dos 5 produtos mais vendidos em 2018, seria necessário acessar os registros detalhados de vendas na tabela `fact_orders` e cruzar esses dados com a tabela `dim_products`.\\n\\nSe você tiver acesso ao banco de dados, pode executar uma consulta SQL semelhante à seguinte:\\n\\n```sql\\nSELECT p.product_name, COUNT(o.order_id) AS total_sales\\nFROM fact_orders o\\nJOIN dim_products p ON o.product_id = p.product_id\\nWHERE YEAR(o.order_date) = 2018\\nGROUP BY p.product_name\\nORDER BY total_sales DESC\\nLIMIT 5;\\n```\\n\\nEssa consulta presumiria que `fact_orders` contém colunas como `order_id`, `product_id`, e `order_date`, e que `dim_products` contém colunas como `product_id` e `product_name`. Verifique a estrutura das tabelas e ajuste a consulta conforme necessário.'}"
      ]
     },
     "execution_count": 412,
     "metadata": {},
     "output_type": "execute_result"
    }
   ],
   "source": [
    "sql_prompt_template = ChatPromptTemplate.from_messages([\n",
    "    (\"system\", \n",
    "     \"\"\"\n",
    "Você é um especialista em SQL responsável por gerar uma consulta SQL\n",
    "compatível com Trino e que responda a pergunta do usuário.\n",
    "Sua consulta deverá ser formatada, tabulada e utilizar aliases para\n",
    "evitar ambiguidades. Caso precise gerar uma ou mais subqueries,\n",
    "prefira utilizar CTEs (Common Table Expressions).\n",
    "Sua resposta devera ser apenas código SQL, não complemente sua resposta.\n",
    "\n",
    "Utilize o contexto fornecido para construir a consulta SQL:\n",
    "{context}\n",
    "\n",
    "Answer the user query. Wrap the output in `json` tags\n",
    "{format_instructions} \"\"\"),\n",
    "    (\"user\", \"{input}\")\n",
    "]).partial(format_instructions=parser.get_format_instructions())\n",
    "\n",
    "retrieval_qa_chat_prompt = hub.pull(\"langchain-ai/retrieval-qa-chat\")\n",
    "combine_docs_chain = create_stuff_documents_chain(\n",
    "    llm, retrieval_qa_chat_prompt\n",
    ")\n",
    "\n",
    "sql_agent = create_retrieval_chain(retriever=table_vector.as_retriever(), combine_docs_chain=combine_docs_chain)\n",
    "\n",
    "sql_agent.invoke(\n",
    "    {\n",
    "        \"input\": \"Quais os 5 produtos mais vendidos em 2018?\",\n",
    "        \"context\": \n",
    "    }\n",
    ")\n"
   ]
  }
 ],
 "metadata": {
  "kernelspec": {
   "display_name": ".venv",
   "language": "python",
   "name": "python3"
  },
  "language_info": {
   "codemirror_mode": {
    "name": "ipython",
    "version": 3
   },
   "file_extension": ".py",
   "mimetype": "text/x-python",
   "name": "python",
   "nbconvert_exporter": "python",
   "pygments_lexer": "ipython3",
   "version": "3.11.4"
  }
 },
 "nbformat": 4,
 "nbformat_minor": 2
}
