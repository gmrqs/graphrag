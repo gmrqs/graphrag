{
 "cells": [
  {
   "cell_type": "markdown",
   "metadata": {},
   "source": [
    "# Populating Neo4j Graph Database"
   ]
  },
  {
   "cell_type": "code",
   "execution_count": 8,
   "metadata": {},
   "outputs": [],
   "source": [
    "import os\n",
    "from langchain_community.graphs import Neo4jGraph\n",
    "\n",
    "from dotenv import load_dotenv\n",
    "\n",
    "load_dotenv()\n",
    "\n",
    "neo4j_url = os.getenv(\"NEO4J_CONNECTION_URL\")\n",
    "neo4j_user = os.getenv(\"NEO4J_USER\")\n",
    "neo4j_password = os.getenv(\"NEO4J_PASSWORD\")\n",
    "\n",
    "# https://api.python.langchain.com/en/latest/graphs/langchain_community.graphs.neo4j_graph.Neo4jGraph.html\n",
    "graph = Neo4jGraph(neo4j_url, neo4j_user, neo4j_password)\n",
    "\n",
    "def wipe_graph(graph=graph):\n",
    "    graph.query(query=\"MATCH (n) DETACH DELETE n\")\n"
   ]
  },
  {
   "cell_type": "markdown",
   "metadata": {},
   "source": [
    "#### Reading database and table metadata."
   ]
  },
  {
   "cell_type": "code",
   "execution_count": 105,
   "metadata": {},
   "outputs": [],
   "source": [
    "import json\n",
    "\n",
    "with open(\"metadata.json\", encoding='utf-8') as file:\n",
    "    metadata = json.load(file)\n",
    "\n",
    "wipe_graph()"
   ]
  },
  {
   "cell_type": "markdown",
   "metadata": {},
   "source": [
    "#### Creating entities in Neo4j graph database"
   ]
  },
  {
   "cell_type": "code",
   "execution_count": 106,
   "metadata": {},
   "outputs": [
    {
     "data": {
      "text/plain": [
       "[]"
      ]
     },
     "execution_count": 106,
     "metadata": {},
     "output_type": "execute_result"
    }
   ],
   "source": [
    "query_string = \"\"\"\n",
    "CREATE CONSTRAINT table_uniqueness_rule IF NOT EXISTS \n",
    "    FOR (tb:Table) REQUIRE tb.table_full_name IS UNIQUE\n",
    "\"\"\"\n",
    "\n",
    "graph.query(query=query_string)\n",
    "\n",
    "query_string = \"\"\"\n",
    "CREATE CONSTRAINT column_uniqueness_rule IF NOT EXISTS \n",
    "    FOR (col:Column) REQUIRE col.column_name IS UNIQUE\n",
    "\"\"\"\n",
    "\n",
    "graph.query(query=query_string)\n",
    "\n",
    "query_string = \"\"\"\n",
    "CREATE CONSTRAINT database_uniqueness_rule IF NOT EXISTS \n",
    "    FOR (db:Database) REQUIRE db.database_name IS UNIQUE\n",
    "\"\"\"\n",
    "\n",
    "graph.query(query=query_string)"
   ]
  },
  {
   "cell_type": "code",
   "execution_count": 107,
   "metadata": {},
   "outputs": [
    {
     "name": "stdout",
     "output_type": "stream",
     "text": [
      "Entity fact_orders created successfully...\n",
      "Entity dim_order_items created successfully...\n",
      "Entity dim_sellers created successfully...\n",
      "Entity dim_products created successfully...\n",
      "Entity dim_order_reviews created successfully...\n",
      "Entity dim_order_payments created successfully...\n",
      "Entity dim_geolocation created successfully...\n",
      "Entity dim_customers created successfully...\n"
     ]
    }
   ],
   "source": [
    "for table in metadata['table_metadata']:\n",
    "\n",
    "    params = {\n",
    "        \"table_name\": table['table_name'],\n",
    "        \"database_name\": table['database_name'],\n",
    "        \"table_full_name\": '.'.join([table['database_name'], table['table_name']]),\n",
    "        \"table_description\": table['table_description'],\n",
    "        \"table_columns\": [t['column_name'] for t in table['table_columns']],\n",
    "        \"table_primary_key\": table['table_primary_key']\n",
    "    }\n",
    "    query_string = \"\"\"\n",
    "    CREATE (tb:Table {\n",
    "        table_name: $table_name,\n",
    "        database_name: $database_name,\n",
    "        table_full_name: $table_full_name,\n",
    "        table_description: $table_description,\n",
    "        table_columns: $table_columns,\n",
    "        table_primary_key: $table_primary_key\n",
    "        }\n",
    "    )\n",
    "    \"\"\"\n",
    "\n",
    "    graph.query(query=query_string, params=params)\n",
    "\n",
    "    print(f\"Entity {table['table_name']} created successfully...\")"
   ]
  },
  {
   "cell_type": "code",
   "execution_count": 108,
   "metadata": {},
   "outputs": [],
   "source": [
    "for database in metadata['database_metadata']:\n",
    "\n",
    "    for table in metadata['table_metadata']:\n",
    "\n",
    "        params = {\n",
    "            \"database_name\": database['database_name'],\n",
    "            \"database_description\": database['database_description'],\n",
    "            \"table_name\": table['table_name']\n",
    "        }\n",
    "\n",
    "        query_string = \"\"\"\n",
    "        MERGE (db:Database {database_name: $database_name})\n",
    "        ON CREATE SET // On first execution creates the database entity\n",
    "            db.database_description = $database_description,\n",
    "            db.database_tables = [$table_name]\n",
    "        ON MATCH SET // Updates table list in database entity if a database with the same name exists\n",
    "            db.database_tables = db.database_tables + [$table_name]\n",
    "        \"\"\"\n",
    "\n",
    "        graph.query(query=query_string, params=params)"
   ]
  },
  {
   "cell_type": "code",
   "execution_count": 109,
   "metadata": {},
   "outputs": [
    {
     "data": {
      "text/plain": [
       "[]"
      ]
     },
     "execution_count": 109,
     "metadata": {},
     "output_type": "execute_result"
    }
   ],
   "source": [
    "query_string = \"\"\"\n",
    "    MATCH (tb:Table)\n",
    "    MATCH (db:Database)\n",
    "    WHERE tb.table_name in db.database_tables\n",
    "    CREATE (db)-[:CONTAINS]->(tb)\n",
    "\"\"\"\n",
    "\n",
    "graph.query(query=query_string)"
   ]
  },
  {
   "cell_type": "code",
   "execution_count": 110,
   "metadata": {},
   "outputs": [],
   "source": [
    "for table in metadata['table_metadata']:\n",
    "    for column in table['table_columns']:\n",
    "        params = {\n",
    "            \"table_name\": table['table_name'],\n",
    "            \"column_name\": column['column_name'],\n",
    "            \"column_description\": column['column_description'],\n",
    "            \"data_type\": column['data_type']\n",
    "        }\n",
    "\n",
    "        query_string = \"\"\"\n",
    "        MATCH (tb:Table) WHERE tb.table_name = $table_name \n",
    "        MERGE (col:Column {column_name: $column_name})\n",
    "        ON CREATE SET\n",
    "            col.column_description = $column_description,\n",
    "            col.data_type = $data_type,\n",
    "            col.located_at = [$table_name],\n",
    "            col.is_primary_key_at = [],\n",
    "            col.is_foreign_key_at = []\n",
    "        ON MATCH SET\n",
    "            col.located_at = col.located_at + [tb.table_name]\n",
    "        \"\"\"\n",
    "\n",
    "        graph.query(query=query_string, params=params)"
   ]
  },
  {
   "cell_type": "code",
   "execution_count": 111,
   "metadata": {},
   "outputs": [
    {
     "data": {
      "text/plain": [
       "[]"
      ]
     },
     "execution_count": 111,
     "metadata": {},
     "output_type": "execute_result"
    }
   ],
   "source": [
    "query_string = \"\"\" \n",
    "    MATCH (tb:Table)\n",
    "    MATCH (col:Column)\n",
    "    WHERE tb.table_name in col.located_at\n",
    "    CREATE (tb)-[:HAS_COLUMN]->(col)\n",
    "\"\"\"\n",
    "\n",
    "graph.query(query=query_string)"
   ]
  },
  {
   "cell_type": "code",
   "execution_count": 112,
   "metadata": {},
   "outputs": [
    {
     "data": {
      "text/plain": [
       "[]"
      ]
     },
     "execution_count": 112,
     "metadata": {},
     "output_type": "execute_result"
    }
   ],
   "source": [
    "query_string = \"\"\" \n",
    "    MATCH (tb:Table)\n",
    "    MATCH (col:Column) WHERE col.column_name in tb.table_primary_key\n",
    "    MERGE (col)-[pk:IS_PRIMARY_KEY]->(tb)\n",
    "\"\"\"\n",
    "\n",
    "graph.query(query=query_string)"
   ]
  },
  {
   "cell_type": "code",
   "execution_count": 68,
   "metadata": {},
   "outputs": [
    {
     "data": {
      "text/plain": [
       "[]"
      ]
     },
     "execution_count": 68,
     "metadata": {},
     "output_type": "execute_result"
    }
   ],
   "source": [
    "query_string = \"\"\"\n",
    "MATCH (tb:Table)\n",
    "MATCH (col:Column)\n",
    "WHERE (col)-[:IS_PRIMARY_KEY]->(tb)\n",
    "SET col.is_foreign_key_at = apoc.coll.disjunction(col.located_at, [tb.table_name])\n",
    "\"\"\"\n",
    "\n",
    "graph.query(query=query_string)"
   ]
  },
  {
   "cell_type": "code",
   "execution_count": 59,
   "metadata": {},
   "outputs": [
    {
     "data": {
      "text/plain": [
       "[]"
      ]
     },
     "execution_count": 59,
     "metadata": {},
     "output_type": "execute_result"
    }
   ],
   "source": [
    "query_string = \"\"\" \n",
    "    MATCH (tb:Table)\n",
    "    MATCH (col:Column) \n",
    "    WHERE tb.table_name IN col.is_foreign_key_at\n",
    "    MERGE (col)-[pk:IS_FOREIGN_KEY]->(tb)\n",
    "\"\"\"\n",
    "\n",
    "graph.query(query=query_string)"
   ]
  },
  {
   "cell_type": "code",
   "execution_count": null,
   "metadata": {},
   "outputs": [],
   "source": [
    "query_string = \"\"\" \n",
    "    MATCH (tb:Table)\n",
    "    MATCH (col:Column) WHERE col.column_name in tb.table_primary_key\n",
    "    SET col.is_primary_key_at = col.is_primary_key_at + tb.table_name\n",
    "\"\"\"\n",
    "\n",
    "graph.query(query=query_string)"
   ]
  },
  {
   "cell_type": "code",
   "execution_count": null,
   "metadata": {},
   "outputs": [],
   "source": [
    "query_string = \"\"\" \n",
    "    MATCH (tb:Table)\n",
    "    MATCH (col:Column) WHERE col.column_name in tb.table_primary_key\n",
    "    SET col.is_foreign_key_at = apoc.coll.disjunction(col.located_at, col.is_primary_key_at)\n",
    "\"\"\"\n",
    "\n",
    "graph.query(query=query_string)"
   ]
  },
  {
   "cell_type": "code",
   "execution_count": null,
   "metadata": {},
   "outputs": [],
   "source": [
    "query_string = \"\"\" \n",
    "    MATCH (tb:Table)\n",
    "    MATCH (col:Column) WHERE tb.table_name in col.is_foreign_key_at\n",
    "    MERGE (col)-[:IS_FOREIGN_KEY]->(tb)\n",
    "\"\"\"\n",
    "\n",
    "graph.query(query=query_string)"
   ]
  },
  {
   "cell_type": "markdown",
   "metadata": {},
   "source": [
    "### Creating Vector Index"
   ]
  },
  {
   "cell_type": "code",
   "execution_count": 53,
   "metadata": {},
   "outputs": [
    {
     "data": {
      "text/plain": [
       "[]"
      ]
     },
     "execution_count": 53,
     "metadata": {},
     "output_type": "execute_result"
    }
   ],
   "source": [
    "graph.query(\"\"\"\n",
    "         CREATE VECTOR INDEX `database_embeddings` IF NOT EXISTS\n",
    "          FOR (db:Database) ON (db.text_embeddings) \n",
    "          OPTIONS { indexConfig: {\n",
    "            `vector.dimensions`: 1536,\n",
    "            `vector.similarity_function`: 'cosine'    \n",
    "         }}\n",
    "\"\"\")\n",
    "\n",
    "graph.query(\"\"\"\n",
    "         CREATE VECTOR INDEX `table_embeddings` IF NOT EXISTS\n",
    "          FOR (tb:Table) ON (tb.text_embeddings) \n",
    "          OPTIONS { indexConfig: {\n",
    "            `vector.dimensions`: 1536,\n",
    "            `vector.similarity_function`: 'cosine'    \n",
    "         }}\n",
    "\"\"\")\n",
    "\n",
    "graph.query(\"\"\"\n",
    "         CREATE VECTOR INDEX `columns_embeddings` IF NOT EXISTS\n",
    "          FOR (col:Column) ON (col.text_embeddings) \n",
    "          OPTIONS { indexConfig: {\n",
    "            `vector.dimensions`: 1536,\n",
    "            `vector.similarity_function`: 'cosine'    \n",
    "         }}\n",
    "\"\"\")"
   ]
  },
  {
   "cell_type": "code",
   "execution_count": null,
   "metadata": {},
   "outputs": [],
   "source": []
  },
  {
   "cell_type": "code",
   "execution_count": null,
   "metadata": {},
   "outputs": [],
   "source": []
  },
  {
   "cell_type": "code",
   "execution_count": null,
   "metadata": {},
   "outputs": [],
   "source": []
  }
 ],
 "metadata": {
  "kernelspec": {
   "display_name": ".venv",
   "language": "python",
   "name": "python3"
  },
  "language_info": {
   "codemirror_mode": {
    "name": "ipython",
    "version": 3
   },
   "file_extension": ".py",
   "mimetype": "text/x-python",
   "name": "python",
   "nbconvert_exporter": "python",
   "pygments_lexer": "ipython3",
   "version": "3.11.4"
  }
 },
 "nbformat": 4,
 "nbformat_minor": 2
}
