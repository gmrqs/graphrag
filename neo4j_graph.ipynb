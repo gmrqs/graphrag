{
 "cells": [
  {
   "cell_type": "markdown",
   "metadata": {},
   "source": [
    "# Populating Neo4j Graph Database"
   ]
  },
  {
   "cell_type": "code",
   "execution_count": 146,
   "metadata": {},
   "outputs": [],
   "source": [
    "import os\n",
    "import json\n",
    "from langchain_community.graphs import Neo4jGraph\n",
    "from langchain_community.vectorstores import Neo4jVector\n",
    "from langchain_openai import OpenAIEmbeddings\n",
    "from dotenv import load_dotenv\n",
    "\n",
    "load_dotenv()\n",
    "\n",
    "NEO4J_URL = os.getenv(\"NEO4J_CONNECTION_URL\")\n",
    "NEO4J_USERNAME = os.getenv(\"NEO4J_USER\")\n",
    "NEO4J_PASSWORD = os.getenv(\"NEO4J_PASSWORD\")\n",
    "OPENAI_API_KEY = os.environ.get(\"OPENAI_API_KEY\")\n",
    "\n",
    "# https://api.python.langchain.com/en/latest/graphs/langchain_community.graphs.neo4j_graph.Neo4jGraph.html\n",
    "graph = Neo4jGraph(\n",
    "    url=NEO4J_URL,\n",
    "    username=NEO4J_USERNAME,\n",
    "    password=NEO4J_PASSWORD\n",
    ")\n",
    "\n",
    "\n",
    "def wipe_graph(graph=graph):\n",
    "    graph.query(query=\"MATCH (n) DETACH DELETE n\")\n",
    "    graph.query(query=\"CALL apoc.schema.assert({},{},true) YIELD label, key RETURN *\")\n",
    "    graph.refresh_schema()\n",
    "    print(graph.get_structured_schema)"
   ]
  },
  {
   "cell_type": "code",
   "execution_count": 147,
   "metadata": {},
   "outputs": [
    {
     "name": "stdout",
     "output_type": "stream",
     "text": [
      "{'node_props': {}, 'rel_props': {}, 'relationships': [], 'metadata': {'constraint': [], 'index': []}}\n"
     ]
    }
   ],
   "source": [
    "wipe_graph()"
   ]
  },
  {
   "cell_type": "markdown",
   "metadata": {},
   "source": [
    "#### Reading database and table metadata."
   ]
  },
  {
   "cell_type": "code",
   "execution_count": 148,
   "metadata": {},
   "outputs": [],
   "source": [
    "with open(\"metadata.json\", encoding='utf-8') as file:\n",
    "    metadata = json.load(file)"
   ]
  },
  {
   "cell_type": "markdown",
   "metadata": {},
   "source": [
    "#### Creating uniqueness constraint for expected entities"
   ]
  },
  {
   "cell_type": "code",
   "execution_count": 149,
   "metadata": {},
   "outputs": [
    {
     "data": {
      "text/plain": [
       "[]"
      ]
     },
     "execution_count": 149,
     "metadata": {},
     "output_type": "execute_result"
    }
   ],
   "source": [
    "query_string = \"\"\"\n",
    "CREATE CONSTRAINT table_uniqueness_rule IF NOT EXISTS \n",
    "    FOR (tb:Table) REQUIRE tb.table_full_name IS UNIQUE\n",
    "\"\"\"\n",
    "\n",
    "graph.query(query=query_string)\n",
    "\n",
    "query_string = \"\"\"\n",
    "CREATE CONSTRAINT column_uniqueness_rule IF NOT EXISTS \n",
    "    FOR (col:Column) REQUIRE col.column_name IS UNIQUE\n",
    "\"\"\"\n",
    "\n",
    "graph.query(query=query_string)\n",
    "\n",
    "query_string = \"\"\"\n",
    "CREATE CONSTRAINT database_uniqueness_rule IF NOT EXISTS\n",
    "    FOR (db:Database) REQUIRE db.database_name IS UNIQUE\n",
    "\"\"\"\n",
    "\n",
    "graph.query(query=query_string)"
   ]
  },
  {
   "cell_type": "markdown",
   "metadata": {},
   "source": [
    "#### Creating TABLE entities"
   ]
  },
  {
   "cell_type": "code",
   "execution_count": 150,
   "metadata": {},
   "outputs": [
    {
     "name": "stdout",
     "output_type": "stream",
     "text": [
      "Entity fact_orders created successfully...\n",
      "Entity dim_order_items created successfully...\n",
      "Entity dim_sellers created successfully...\n",
      "Entity dim_products created successfully...\n",
      "Entity dim_order_reviews created successfully...\n",
      "Entity dim_order_payments created successfully...\n",
      "Entity dim_geolocation created successfully...\n",
      "Entity dim_customers created successfully...\n"
     ]
    }
   ],
   "source": [
    "for table in metadata['table_metadata']:\n",
    "\n",
    "    params = {\n",
    "        \"table_name\": table['table_name'],\n",
    "        \"database_name\": table['database_name'],\n",
    "        \"table_full_name\": '.'.join([table['database_name'], table['table_name']]),\n",
    "        \"table_logic_name\": table['table_logic_name'],\n",
    "        \"table_description\": table['table_description'],\n",
    "        \"table_columns\": [column['column_name'] for column in table['table_columns']],\n",
    "        \"table_primary_key\": table['table_primary_key']\n",
    "    }\n",
    "    query_string = \"\"\"\n",
    "    CREATE (tb:Table {\n",
    "        table_name: $table_name,\n",
    "        table_logic_name: $table_logic_name,\n",
    "        database_name: $database_name,\n",
    "        table_full_name: $table_full_name,\n",
    "        table_description: $table_description,\n",
    "        table_columns: $table_columns,\n",
    "        table_primary_key: $table_primary_key\n",
    "        }\n",
    "    )\n",
    "    \"\"\"\n",
    "\n",
    "    graph.query(query=query_string, params=params)\n",
    "\n",
    "    print(f\"Entity {table['table_name']} created successfully...\")"
   ]
  },
  {
   "cell_type": "markdown",
   "metadata": {},
   "source": [
    "#### Creating DATABASE entities"
   ]
  },
  {
   "cell_type": "code",
   "execution_count": 151,
   "metadata": {},
   "outputs": [],
   "source": [
    "for database in metadata['database_metadata']:\n",
    "\n",
    "    for table in metadata['table_metadata']:\n",
    "\n",
    "        params = {\n",
    "            \"database_name\": database['database_name'],\n",
    "            \"database_description\": database['database_description'],\n",
    "            \"table_name\": table['table_name']\n",
    "        }\n",
    "\n",
    "        query_string = \"\"\"\n",
    "        MERGE (db:Database {database_name: $database_name})\n",
    "        ON CREATE SET // On first execution creates the database entity\n",
    "            db.database_description = $database_description,\n",
    "            db.database_tables = [$table_name]\n",
    "        ON MATCH SET // Updates table list in database entity if a database with the same name exists\n",
    "            db.database_tables = db.database_tables + [$table_name]\n",
    "        \"\"\"\n",
    "\n",
    "        graph.query(query=query_string, params=params)"
   ]
  },
  {
   "cell_type": "markdown",
   "metadata": {},
   "source": [
    "#### Creating relationship CONTAINS between Database and Table entities"
   ]
  },
  {
   "cell_type": "code",
   "execution_count": 152,
   "metadata": {},
   "outputs": [
    {
     "data": {
      "text/plain": [
       "[]"
      ]
     },
     "execution_count": 152,
     "metadata": {},
     "output_type": "execute_result"
    }
   ],
   "source": [
    "query_string = \"\"\"\n",
    "    MATCH (tb:Table)\n",
    "    MATCH (db:Database)\n",
    "    WHERE tb.table_name in db.database_tables\n",
    "    CREATE (db)-[:CONTAINS]->(tb)\n",
    "\"\"\"\n",
    "\n",
    "graph.query(query=query_string)"
   ]
  },
  {
   "cell_type": "markdown",
   "metadata": {},
   "source": [
    "#### Creating Column entities"
   ]
  },
  {
   "cell_type": "code",
   "execution_count": 153,
   "metadata": {},
   "outputs": [],
   "source": [
    "for table in metadata['table_metadata']:\n",
    "    for column in table['table_columns']:\n",
    "        params = {\n",
    "            \"table_name\": table['table_name'],\n",
    "            \"column_name\": column['column_name'],\n",
    "            \"column_description\": column['column_description'],\n",
    "            \"data_type\": column['data_type']\n",
    "        }\n",
    "\n",
    "        query_string = \"\"\"\n",
    "        MATCH (tb:Table) WHERE tb.table_name = $table_name \n",
    "        MERGE (col:Column {column_name: $column_name})\n",
    "        ON CREATE SET\n",
    "            col.column_description = $column_description,\n",
    "            col.data_type = $data_type,\n",
    "            col.located_at = [$table_name],\n",
    "            col.is_primary_key_at = [],\n",
    "            col.is_foreign_key_at = []\n",
    "        ON MATCH SET\n",
    "            col.located_at = col.located_at + [tb.table_name]\n",
    "        \"\"\"\n",
    "\n",
    "        graph.query(query=query_string, params=params)"
   ]
  },
  {
   "cell_type": "markdown",
   "metadata": {},
   "source": [
    "#### Creating HAS_COLUMN relationship between Table and Column entities"
   ]
  },
  {
   "cell_type": "code",
   "execution_count": 154,
   "metadata": {},
   "outputs": [
    {
     "data": {
      "text/plain": [
       "[]"
      ]
     },
     "execution_count": 154,
     "metadata": {},
     "output_type": "execute_result"
    }
   ],
   "source": [
    "query_string = \"\"\" \n",
    "    MATCH (tb:Table)\n",
    "    MATCH (col:Column)\n",
    "    WHERE tb.table_name in col.located_at\n",
    "    CREATE (tb)-[:HAS_COLUMN]->(col)\n",
    "\"\"\"\n",
    "\n",
    "graph.query(query=query_string)"
   ]
  },
  {
   "cell_type": "markdown",
   "metadata": {},
   "source": [
    "#### Creating IS_PRIMARY_KEY relationship between Column and Table entities"
   ]
  },
  {
   "cell_type": "code",
   "execution_count": 155,
   "metadata": {},
   "outputs": [
    {
     "data": {
      "text/plain": [
       "[]"
      ]
     },
     "execution_count": 155,
     "metadata": {},
     "output_type": "execute_result"
    }
   ],
   "source": [
    "query_string = \"\"\" \n",
    "    MATCH (tb:Table)\n",
    "    MATCH (col:Column) WHERE col.column_name in tb.table_primary_key\n",
    "    MERGE (col)-[pk:IS_PRIMARY_KEY]->(tb)\n",
    "\"\"\"\n",
    "\n",
    "graph.query(query=query_string)"
   ]
  },
  {
   "cell_type": "markdown",
   "metadata": {},
   "source": [
    "#### Creating _is_primary_key_at_ property in all Column entities"
   ]
  },
  {
   "cell_type": "code",
   "execution_count": 156,
   "metadata": {},
   "outputs": [
    {
     "data": {
      "text/plain": [
       "[]"
      ]
     },
     "execution_count": 156,
     "metadata": {},
     "output_type": "execute_result"
    }
   ],
   "source": [
    "query_string = \"\"\" \n",
    "    MATCH (tb:Table)\n",
    "    MATCH (col:Column) WHERE col.column_name in tb.table_primary_key\n",
    "    SET col.is_primary_key_at = col.is_primary_key_at + tb.table_name\n",
    "\"\"\"\n",
    "\n",
    "graph.query(query=query_string)"
   ]
  },
  {
   "cell_type": "markdown",
   "metadata": {},
   "source": [
    "#### Creating _is_foreign_key_at_ property in all Column entities"
   ]
  },
  {
   "cell_type": "code",
   "execution_count": 157,
   "metadata": {},
   "outputs": [
    {
     "data": {
      "text/plain": [
       "[]"
      ]
     },
     "execution_count": 157,
     "metadata": {},
     "output_type": "execute_result"
    }
   ],
   "source": [
    "query_string = \"\"\"\n",
    "MATCH (tb:Table)\n",
    "MATCH (col:Column)\n",
    "WHERE (col)-[:IS_PRIMARY_KEY]->(tb)\n",
    "SET col.is_foreign_key_at = apoc.coll.disjunction(col.located_at, [tb.table_name])\n",
    "\"\"\"\n",
    "\n",
    "graph.query(query=query_string)"
   ]
  },
  {
   "cell_type": "markdown",
   "metadata": {},
   "source": [
    "#### Creating IS_FOREIGN_KEY relationship between Column and Tables entities "
   ]
  },
  {
   "cell_type": "code",
   "execution_count": 158,
   "metadata": {},
   "outputs": [
    {
     "data": {
      "text/plain": [
       "[]"
      ]
     },
     "execution_count": 158,
     "metadata": {},
     "output_type": "execute_result"
    }
   ],
   "source": [
    "query_string = \"\"\" \n",
    "    MATCH (tb:Table)\n",
    "    MATCH (col:Column) WHERE tb.table_name in col.is_foreign_key_at\n",
    "    MERGE (col)-[:IS_FOREIGN_KEY]->(tb)\n",
    "\"\"\"\n",
    "\n",
    "graph.query(query=query_string)"
   ]
  },
  {
   "cell_type": "markdown",
   "metadata": {},
   "source": [
    "### Creating Vector Index"
   ]
  },
  {
   "cell_type": "code",
   "execution_count": 159,
   "metadata": {},
   "outputs": [
    {
     "data": {
      "text/plain": [
       "[]"
      ]
     },
     "execution_count": 159,
     "metadata": {},
     "output_type": "execute_result"
    }
   ],
   "source": [
    "graph.query(\"\"\"\n",
    "         CREATE VECTOR INDEX `database_embeddings` IF NOT EXISTS\n",
    "          FOR (db:Database) ON (db.text_embeddings) \n",
    "          OPTIONS { indexConfig: {\n",
    "            `vector.dimensions`: 1536,\n",
    "            `vector.similarity_function`: 'cosine'    \n",
    "         }}\n",
    "\"\"\")\n",
    "\n",
    "graph.query(\"\"\"\n",
    "         CREATE VECTOR INDEX `table_embeddings` IF NOT EXISTS\n",
    "          FOR (tb:Table) ON (tb.text_embeddings) \n",
    "          OPTIONS { indexConfig: {\n",
    "            `vector.dimensions`: 1536,\n",
    "            `vector.similarity_function`: 'cosine'    \n",
    "         }}\n",
    "\"\"\")\n",
    "\n",
    "graph.query(\"\"\"\n",
    "         CREATE VECTOR INDEX `columns_embeddings` IF NOT EXISTS\n",
    "          FOR (col:Column) ON (col.text_embeddings) \n",
    "          OPTIONS { indexConfig: {\n",
    "            `vector.dimensions`: 1536,\n",
    "            `vector.similarity_function`: 'cosine'    \n",
    "         }}\n",
    "\"\"\")"
   ]
  },
  {
   "cell_type": "code",
   "execution_count": 165,
   "metadata": {},
   "outputs": [
    {
     "name": "stdout",
     "output_type": "stream",
     "text": [
      "Node properties:\n",
      "Database {database_description: STRING, database_name: STRING, database_tables: LIST}\n",
      "Table {table_logic_name: STRING, table_name: STRING, table_columns: LIST, table_primary_key: LIST, database_name: STRING, table_full_name: STRING, table_description: STRING}\n",
      "Column {data_type: STRING, is_primary_key_at: LIST, is_foreign_key_at: LIST, column_name: STRING, column_description: STRING, located_at: LIST}\n",
      "Relationship properties:\n",
      "\n",
      "The relationships:\n",
      "(:Database)-[:CONTAINS]->(:Table)\n",
      "(:Table)-[:HAS_COLUMN]->(:Column)\n",
      "(:Column)-[:IS_FOREIGN_KEY]->(:Table)\n",
      "(:Column)-[:IS_PRIMARY_KEY]->(:Table)\n"
     ]
    }
   ],
   "source": [
    "graph.refresh_schema()\n",
    "\n",
    "print(graph.get_schema)"
   ]
  },
  {
   "cell_type": "markdown",
   "metadata": {},
   "source": [
    "#### Creating _text_embedding_ property in all entities and populate them with Embeddings Vector\n",
    "\n",
    "We'll use those later to execute similarity search"
   ]
  },
  {
   "cell_type": "code",
   "execution_count": 167,
   "metadata": {},
   "outputs": [],
   "source": [
    "database_vector = Neo4jVector.from_existing_graph(\n",
    "    OpenAIEmbeddings(),\n",
    "    url=NEO4J_URL,\n",
    "    username=NEO4J_USERNAME,\n",
    "    password=NEO4J_PASSWORD,\n",
    "    index_name=\"database_embeddings\",\n",
    "    node_label=\"Database\",\n",
    "    text_node_properties=[\"database_name\", \"database_description\"],\n",
    "    embedding_node_property=\"text_embeddings\"\n",
    ")\n",
    "\n",
    "table_vector = Neo4jVector.from_existing_graph(\n",
    "    OpenAIEmbeddings(),\n",
    "    url=NEO4J_URL,\n",
    "    username=NEO4J_USERNAME,\n",
    "    password=NEO4J_PASSWORD,\n",
    "    index_name=\"table_embeddings\",\n",
    "    node_label=\"Table\",\n",
    "    text_node_properties=[\"table_name\",\"table_logic_name\", \"table_description\"],\n",
    "    embedding_node_property=\"text_embeddings\"\n",
    ")\n",
    "\n",
    "column_vector = Neo4jVector.from_existing_graph(\n",
    "    OpenAIEmbeddings(),\n",
    "    url=NEO4J_URL,\n",
    "    username=NEO4J_USERNAME,\n",
    "    password=NEO4J_PASSWORD,\n",
    "    index_name=\"column_embeddings\",\n",
    "    node_label=\"Column\",\n",
    "    text_node_properties=[\"column_name\",\"column_logic_name\", \"column_description\"],\n",
    "    embedding_node_property=\"text_embeddings\"\n",
    ")"
   ]
  },
  {
   "cell_type": "code",
   "execution_count": 168,
   "metadata": {},
   "outputs": [
    {
     "data": {
      "text/plain": [
       "[Document(page_content='\\ntable_name: dim_products\\ntable_logic_name: Tabela dimensão de produtos\\ntable_description: A tabela `dim_products` representa a dimensão produtos no e-commerce Olist. Nela são catalogados todos os produtos da plataforma do e-commerce assim como informações sobre eles como a categoria dos produtos, o peso, largura, comprimento, altura, comprimento da descrição do produto e quantidade de fotos disponíveis.', metadata={'database_name': 'olist', 'table_full_name': 'olist.dim_products', 'table_primary_key': ['product_id'], 'table_columns': ['product_id', 'product_category_name', 'product_name_length', 'product_description_length', 'product_photos_qty', 'product_weight_g', 'product_length_cm', 'product_height_cm', 'product_width_cm']}),\n",
       " Document(page_content='\\ntable_name: dim_sellers\\ntable_logic_name: Tabela dimensão de vendedores\\ntable_description: A tabela `dim_sellers` contém todos os vendedores da plataforma. A tabela contem identificação do vendedor, seu prefixo de código postal (CEP), sua cidade e seu estado ou UF (Unidade Federativa). No e-commerce cada produto pode ser vendido por um vendedor distinto e cada pedido pode ter produtos de vendedores distintos.', metadata={'database_name': 'olist', 'table_full_name': 'olist.dim_sellers', 'table_primary_key': ['seller_id'], 'table_columns': ['seller_id', 'seller_zip_code_prefix', 'seller_city', 'seller_state']}),\n",
       " Document(page_content='\\ntable_name: dim_customers\\ntable_logic_name: Tabela dimensão de clientes\\ntable_description: A tabela `dim_customers` contém informações dos clientes do e-commerce Olist. A tabela contém informações como código indentificador do cliente, prefixo do código postal (CEP) além de cidade e estado ou UF (unidade federativa) de residência.', metadata={'database_name': 'olist', 'table_full_name': 'olist.dim_customers', 'table_primary_key': ['customer_id'], 'table_columns': ['customer_id', 'customer_unique_id', 'customer_zip_code_prefix', 'customer_city', 'customer_state']}),\n",
       " Document(page_content='\\ntable_name: fact_orders\\ntable_logic_name: Tabela fato de pedidos\\ntable_description: A tabela `fact_orders` contém todos os pedidos realizados na plataforma de e-commerce Olist. A tabela contém informações dos pedidos como identificação do pedido, status do pedido, data da compra, data da entrega, identificador do cliente,', metadata={'database_name': 'olist', 'table_full_name': 'olist.fact_orders', 'table_primary_key': ['order_id'], 'table_columns': ['order_id', 'customer_id', 'order_status', 'order_purchase_timestamp', 'order_approved_at', 'order_delivered_carrier_date', 'order_delivered_customer_date', 'order_estimated_delivery_date']}),\n",
       " Document(page_content='\\ntable_name: dim_geolocation\\ntable_logic_name: Tabela dimensão de geolocalização\\ntable_description: A tabela `dim_geolocation` apresenta dados de geolocalização para auxiliar na localização de vendedores e clientes. A tabela apresenta pontos de latitude e longitude para vários prefixos de código posta (CEP) assim como a cidade e estado associado à esses pontos. Os pontos associados a cada código postal compoem uma determinada geometria da região.', metadata={'database_name': 'olist', 'table_full_name': 'olist.dim_geolocation', 'table_primary_key': ['geolocation_zip_code_prefix', 'geolocation_lat', 'geolocation_lng'], 'table_columns': ['geolocation_zip_code_prefix', 'geolocation_lat', 'geolocation_lng', 'geolocation_city', 'geolocation_state']}),\n",
       " Document(page_content='\\ntable_name: dim_order_items\\ntable_logic_name: Tabela dimensão de items de pedidos\\ntable_description: A tabela `dim_order_items` contém todos os items que compoem um pedido. Um pedido pode ter um ou mais items associados à ele. A tabela contem também informações relevantes como identificação do produto, identificação do vendedor, valor de venda e valor de frete do item.', metadata={'database_name': 'olist', 'table_full_name': 'olist.dim_order_items', 'table_primary_key': ['order_id', 'order_item_id'], 'table_columns': ['order_id', 'order_item_id', 'product_id', 'seller_id', 'shipping_limit_date', 'price', 'freight_value']}),\n",
       " Document(page_content='\\ntable_name: dim_order_reviews\\ntable_logic_name: Tabela dimensão de avaliações de pedidos\\ntable_description: A tabela `dim_order_reviews` apresenta as avaliações dos pedidos realizados. Um pedido pode ou não ter sido avaliado. A tabela também apresenta informações como a nota dada pelo cliente, assim como comentário sobre a nota dada pelo cliente.', metadata={'database_name': 'olist', 'table_full_name': 'olist.dim_order_reviews', 'table_primary_key': ['review_id', 'order_id'], 'table_columns': ['review_id', 'order_id', 'review_score', 'review_comment_title', 'review_comment_message', 'review_creation_date', 'review_answer_timestamp']}),\n",
       " Document(page_content='\\ntable_name: dim_order_payments\\ntable_logic_name: Tabela dimensão de pagamentos de pedidos\\ntable_description: A tabela `dim_order_payments` apresenta informações sobre os pagamentos dos pedidos realizados pelos clientes. A tabela apresenta informações sobre as parcelas do pagamento, o tipo de pagamento e o valor pago pelo cliente. Cada pedido pode ter vários pagamentos associados à ele.', metadata={'database_name': 'olist', 'table_full_name': 'olist.dim_order_payments', 'table_primary_key': ['order_id', 'payment_sequential'], 'table_columns': ['order_id', 'payment_sequential', 'payment_type', 'payment_installments', 'payment_value']})]"
      ]
     },
     "execution_count": 168,
     "metadata": {},
     "output_type": "execute_result"
    }
   ],
   "source": [
    "table_vector.similarity_search(\"Quais os produtos mais vendidos em 2018?\",k=8)"
   ]
  },
  {
   "cell_type": "code",
   "execution_count": 86,
   "metadata": {},
   "outputs": [],
   "source": [
    "schema_description = graph.query(\n",
    "    query=\"CALL apoc.ml.schema({apiKey: $openai_api_key, model: 'gpt-4o'}) yield value RETURN *\",\n",
    "    params={\"openai_api_key\": OPENAI_API_KEY}\n",
    "    )"
   ]
  },
  {
   "cell_type": "code",
   "execution_count": 96,
   "metadata": {},
   "outputs": [
    {
     "name": "stdout",
     "output_type": "stream",
     "text": [
      "The schema represents a database catalog structure, where:\n",
      "1. A `:Database` node represents a specific database.\n",
      "2. A `:Table` node represents tables within the database.\n",
      "3. The relationship `:CONTAINS` links `:Database` to its `:Table` nodes.\n",
      "4. The relationship `:HAS_COLUMN` links a `:Table` node to its columns.\n",
      "5. Each `:Table` includes metadata such as logic name, primary key, and description.\n"
     ]
    }
   ],
   "source": [
    "print(schema_description[0][\"value\"])"
   ]
  }
 ],
 "metadata": {
  "kernelspec": {
   "display_name": ".venv",
   "language": "python",
   "name": "python3"
  },
  "language_info": {
   "codemirror_mode": {
    "name": "ipython",
    "version": 3
   },
   "file_extension": ".py",
   "mimetype": "text/x-python",
   "name": "python",
   "nbconvert_exporter": "python",
   "pygments_lexer": "ipython3",
   "version": "3.11.4"
  }
 },
 "nbformat": 4,
 "nbformat_minor": 2
}
