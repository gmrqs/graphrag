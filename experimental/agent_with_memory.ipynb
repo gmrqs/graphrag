{
 "cells": [
  {
   "cell_type": "code",
   "execution_count": 66,
   "metadata": {},
   "outputs": [],
   "source": [
    "import os\n",
    "from dotenv import load_dotenv\n",
    "\n",
    "load_dotenv()\n",
    "\n",
    "NEO4J_URL = os.getenv(\"NEO4J_CONNECTION_URL\")\n",
    "NEO4J_USERNAME = os.getenv(\"NEO4J_USER\")\n",
    "NEO4J_PASSWORD = os.getenv(\"NEO4J_PASSWORD\")\n",
    "OPENAI_API_KEY = os.getenv(\"OPENAI_API_KEY\")"
   ]
  },
  {
   "cell_type": "code",
   "execution_count": 67,
   "metadata": {},
   "outputs": [],
   "source": [
    "from typing import TypedDict, Annotated\n",
    "from langchain_core.messages import AnyMessage, SystemMessage, HumanMessage, ToolMessage\n",
    "\n",
    "import operator\n",
    "\n",
    "class AgentState(TypedDict):\n",
    "    messages: Annotated[list[AnyMessage], operator.add]"
   ]
  },
  {
   "cell_type": "code",
   "execution_count": 68,
   "metadata": {},
   "outputs": [],
   "source": [
    "from langgraph.checkpoint.sqlite import SqliteSaver\n",
    "\n",
    "sqlite_memory = SqliteSaver.from_conn_string(\":memory:\")"
   ]
  },
  {
   "cell_type": "code",
   "execution_count": 104,
   "metadata": {},
   "outputs": [],
   "source": [
    "from langgraph.graph import StateGraph, END\n",
    "\n",
    "class AgentManager():\n",
    "\n",
    "    def __init__(self, model, tools, system=\"\"):\n",
    "        self.system = system\n",
    "        self.memory = sqlite_memory\n",
    "        graph = StateGraph(AgentState)\n",
    "        graph.add_node(\"llm\", self.__call)\n",
    "        graph.set_entry_point(\"llm\")\n",
    "        graph.add_edge(\"llm\", END)\n",
    "        self.graph = graph.compile(checkpointer=self.memory)\n",
    "        self.tools = {t.name: t for t in tools}\n",
    "        self.model = model\n",
    "\n",
    "        #self.model = model.bind_tools(tools)\n",
    "        \n",
    "    def __call(self, state: AgentState):\n",
    "        messages = state['messages']\n",
    "        if self.system:\n",
    "            messages = [SystemMessage(content=self.system)] + messages\n",
    "        message = self.model.invoke(messages)\n",
    "        return {'messages': [message]}\n"
   ]
  },
  {
   "cell_type": "code",
   "execution_count": 94,
   "metadata": {},
   "outputs": [],
   "source": [
    "from langchain.globals import set_verbose\n",
    "\n",
    "set_verbose(True)"
   ]
  },
  {
   "cell_type": "code",
   "execution_count": 106,
   "metadata": {},
   "outputs": [],
   "source": [
    "from langchain_openai import ChatOpenAI\n",
    "\n",
    "prompt = \"Você é um assitente amigável e deve responder de forma curta e direta.\"\n",
    "\n",
    "model = ChatOpenAI(model=\"gpt-3.5-turbo\")\n",
    "\n",
    "agent_manager = AgentManager(model=model, tools=[], system=prompt)"
   ]
  },
  {
   "cell_type": "code",
   "execution_count": 109,
   "metadata": {},
   "outputs": [
    {
     "name": "stdout",
     "output_type": "stream",
     "text": [
      "================================\u001b[1m Human Message \u001b[0m=================================\n",
      "\n",
      "ele nasceu e morreu em que ano?\n",
      "==================================\u001b[1m Ai Message \u001b[0m==================================\n",
      "\n",
      "Albert Einstein nasceu em 1879 e faleceu em 1955.\n"
     ]
    }
   ],
   "source": [
    "import uuid\n",
    "\n",
    "messages = [HumanMessage(content=\"ele nasceu e morreu em que ano?\")]\n",
    "config={\"configurable\": {\"thread_id\":123}}\n",
    "\n",
    "for event in agent_manager.graph.stream(\n",
    "    input={\"messages\": messages},\n",
    "    config=config,\n",
    "    stream_mode=\"values\"\n",
    "):\n",
    "    event[\"messages\"][-1].pretty_print()\n",
    "\n",
    "# result = agent_manager.graph.invoke({\"messages\": messages}, config=config)"
   ]
  },
  {
   "cell_type": "code",
   "execution_count": 100,
   "metadata": {},
   "outputs": [
    {
     "name": "stdout",
     "output_type": "stream",
     "text": [
      "Albert Einstein foi um físico teórico alemão que desenvolveu a teoria da relatividade e é conhecido por suas contribuições significativas para a física.\n"
     ]
    }
   ],
   "source": [
    "print(result['messages'][-1].content)"
   ]
  },
  {
   "cell_type": "code",
   "execution_count": 102,
   "metadata": {},
   "outputs": [
    {
     "data": {
      "text/plain": [
       "[CheckpointTuple(config={'configurable': {'thread_id': '5', 'thread_ts': '1ef33b78-c234-60bf-8001-e228f227a18e'}}, checkpoint={'v': 1, 'ts': '2024-06-26T12:28:09.492703+00:00', 'id': '1ef33b78-c234-60bf-8001-e228f227a18e', 'channel_values': {'messages': [HumanMessage(content='quem foi Albert Einstein?'), AIMessage(content='Albert Einstein foi um físico teórico alemão que desenvolveu a teoria da relatividade e é conhecido por suas contribuições significativas para a física.', response_metadata={'token_usage': {'completion_tokens': 38, 'prompt_tokens': 37, 'total_tokens': 75}, 'model_name': 'gpt-3.5-turbo', 'system_fingerprint': None, 'finish_reason': 'stop', 'logprobs': None}, id='run-747feadf-79be-43a3-bfe9-e3005d874f88-0', usage_metadata={'input_tokens': 37, 'output_tokens': 38, 'total_tokens': 75})], 'llm': 'llm'}, 'channel_versions': {'__start__': 1, 'messages': 3, 'start:llm': 2, 'llm': 3}, 'versions_seen': {'__start__': {'__start__': 1}, 'llm': {'start:llm': 2}}, 'pending_sends': []}, metadata={'source': 'loop', 'step': 1, 'writes': {'llm': {'messages': [AIMessage(content='Albert Einstein foi um físico teórico alemão que desenvolveu a teoria da relatividade e é conhecido por suas contribuições significativas para a física.', response_metadata={'token_usage': {'completion_tokens': 38, 'prompt_tokens': 37, 'total_tokens': 75}, 'model_name': 'gpt-3.5-turbo', 'system_fingerprint': None, 'finish_reason': 'stop', 'logprobs': None}, id='run-747feadf-79be-43a3-bfe9-e3005d874f88-0', usage_metadata={'input_tokens': 37, 'output_tokens': 38, 'total_tokens': 75})]}}}, parent_config={'configurable': {'thread_id': '5', 'thread_ts': '1ef33b78-b6f6-6364-8000-d40c1f34459e'}}),\n",
       " CheckpointTuple(config={'configurable': {'thread_id': '5', 'thread_ts': '1ef33b78-b6f6-6364-8000-d40c1f34459e'}}, checkpoint={'v': 1, 'ts': '2024-06-26T12:28:08.313942+00:00', 'id': '1ef33b78-b6f6-6364-8000-d40c1f34459e', 'channel_values': {'messages': [HumanMessage(content='quem foi Albert Einstein?')], 'start:llm': '__start__'}, 'channel_versions': {'__start__': 1, 'messages': 2, 'start:llm': 2}, 'versions_seen': {'__start__': {'__start__': 1}, 'llm': {}}, 'pending_sends': []}, metadata={'source': 'loop', 'step': 0, 'writes': None}, parent_config={'configurable': {'thread_id': '5', 'thread_ts': '1ef33b78-b6f2-6705-bfff-0158fe829b09'}}),\n",
       " CheckpointTuple(config={'configurable': {'thread_id': '5', 'thread_ts': '1ef33b78-b6f2-6705-bfff-0158fe829b09'}}, checkpoint={'v': 1, 'ts': '2024-06-26T12:28:08.312397+00:00', 'id': '1ef33b78-b6f2-6705-bfff-0158fe829b09', 'channel_values': {'messages': [], '__start__': {'messages': [HumanMessage(content='quem foi Albert Einstein?')]}}, 'channel_versions': {'__start__': 1}, 'versions_seen': {'__start__': {}, 'llm': {}}, 'pending_sends': []}, metadata={'source': 'input', 'step': -1, 'writes': {'messages': [HumanMessage(content='quem foi Albert Einstein?')]}}, parent_config=None)]"
      ]
     },
     "execution_count": 102,
     "metadata": {},
     "output_type": "execute_result"
    }
   ],
   "source": [
    "[message.pretty_print() for message in agent_manager.graph.checkpointer.list(config={\"configurable\": {\"thread_id\": 5}})]"
   ]
  },
  {
   "cell_type": "code",
   "execution_count": null,
   "metadata": {},
   "outputs": [],
   "source": []
  }
 ],
 "metadata": {
  "kernelspec": {
   "display_name": ".venv",
   "language": "python",
   "name": "python3"
  },
  "language_info": {
   "codemirror_mode": {
    "name": "ipython",
    "version": 3
   },
   "file_extension": ".py",
   "mimetype": "text/x-python",
   "name": "python",
   "nbconvert_exporter": "python",
   "pygments_lexer": "ipython3",
   "version": "3.11.4"
  }
 },
 "nbformat": 4,
 "nbformat_minor": 2
}
