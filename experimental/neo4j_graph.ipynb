{
 "cells": [
  {
   "cell_type": "markdown",
   "metadata": {},
   "source": [
    "# Populating Neo4j Graph Database"
   ]
  },
  {
   "cell_type": "code",
   "execution_count": 2,
   "metadata": {},
   "outputs": [],
   "source": [
    "import os\n",
    "import json\n",
    "from langchain_community.graphs import Neo4jGraph\n",
    "from langchain_community.vectorstores import Neo4jVector\n",
    "from langchain_openai import OpenAIEmbeddings\n",
    "from dotenv import load_dotenv\n",
    "\n",
    "load_dotenv()\n",
    "\n",
    "NEO4J_URL = os.getenv(\"NEO4J_CONNECTION_URL\")\n",
    "NEO4J_USERNAME = os.getenv(\"NEO4J_USER\")\n",
    "NEO4J_PASSWORD = os.getenv(\"NEO4J_PASSWORD\")\n",
    "OPENAI_API_KEY = os.getenv(\"OPENAI_API_KEY\")"
   ]
  },
  {
   "cell_type": "code",
   "execution_count": 3,
   "metadata": {},
   "outputs": [],
   "source": [
    "from graph_vector_store import setup_graph\n",
    "\n",
    "setup_graph()"
   ]
  },
  {
   "cell_type": "markdown",
   "metadata": {},
   "source": [
    "#### Creating _text_embedding_ property in all entities and populate them with Embeddings Vector\n",
    "\n",
    "We'll use those later to execute similarity search"
   ]
  },
  {
   "cell_type": "code",
   "execution_count": 4,
   "metadata": {},
   "outputs": [],
   "source": [
    "database_vector = Neo4jVector.from_existing_graph(\n",
    "    OpenAIEmbeddings(),\n",
    "    url=NEO4J_URL,\n",
    "    username=NEO4J_USERNAME,\n",
    "    password=NEO4J_PASSWORD,\n",
    "    index_name=\"database_embeddings\",\n",
    "    node_label=\"Database\",\n",
    "    text_node_properties=[\"database_description\"],\n",
    "    embedding_node_property=\"text_embeddings\"\n",
    ")\n",
    "\n",
    "table_vector = Neo4jVector.from_existing_graph(\n",
    "    OpenAIEmbeddings(),\n",
    "    url=NEO4J_URL,\n",
    "    username=NEO4J_USERNAME,\n",
    "    password=NEO4J_PASSWORD,\n",
    "    index_name=\"table_embeddings\",\n",
    "    node_label=\"Table\",\n",
    "    text_node_properties=[\"table_logic_name\", \"table_description\"],\n",
    "    embedding_node_property=\"text_embeddings\"\n",
    ")\n",
    "\n",
    "column_vector = Neo4jVector.from_existing_graph(\n",
    "    OpenAIEmbeddings(),\n",
    "    url=NEO4J_URL,\n",
    "    username=NEO4J_USERNAME,\n",
    "    password=NEO4J_PASSWORD,\n",
    "    index_name=\"column_embeddings\",\n",
    "    node_label=\"Column\",\n",
    "    text_node_properties=[\"column_name\",\"column_logic_name\", \"column_description\"],\n",
    "    embedding_node_property=\"text_embeddings\"\n",
    ")"
   ]
  },
  {
   "cell_type": "code",
   "execution_count": 5,
   "metadata": {},
   "outputs": [
    {
     "data": {
      "text/plain": [
       "[(Document(page_content='\\ntable_logic_name: Tabela dimensão de produtos\\ntable_description: A tabela `dim_products` representa a dimensão produtos no e-commerce Olist. Nela são catalogados todos os produtos da plataforma do e-commerce assim como informações sobre eles como a categoria dos produtos, o peso, largura, comprimento, altura, comprimento da descrição do produto e quantidade de fotos disponíveis.', metadata={'database_name': 'olist', 'table_name': 'dim_products', 'table_full_name': 'olist.dim_products', 'table_primary_key': ['product_id'], 'table_columns': ['product_id', 'product_category_name', 'product_name_length', 'product_description_length', 'product_photos_qty', 'product_weight_g', 'product_length_cm', 'product_height_cm', 'product_width_cm']}),\n",
       "  0.8799126744270325),\n",
       " (Document(page_content='\\ntable_logic_name: Tabela dimensão de vendedores\\ntable_description: A tabela `dim_sellers` contém todos os vendedores da plataforma. A tabela contem identificação do vendedor, seu prefixo de código postal (CEP), sua cidade e seu estado ou UF (Unidade Federativa). No e-commerce cada produto pode ser vendido por um vendedor distinto e cada pedido pode ter produtos de vendedores distintos.', metadata={'database_name': 'olist', 'table_name': 'dim_sellers', 'table_full_name': 'olist.dim_sellers', 'table_primary_key': ['seller_id'], 'table_columns': ['seller_id', 'seller_zip_code_prefix', 'seller_city', 'seller_state']}),\n",
       "  0.8746403455734253)]"
      ]
     },
     "execution_count": 5,
     "metadata": {},
     "output_type": "execute_result"
    }
   ],
   "source": [
    "table_vector.similarity_search_with_relevance_scores(\"Quais os 5 produtos mais vendidos em 2018?\",k=2)"
   ]
  },
  {
   "cell_type": "code",
   "execution_count": 31,
   "metadata": {},
   "outputs": [
    {
     "data": {
      "text/plain": [
       "['dim_order_items', 'dim_products', 'fact_orders']"
      ]
     },
     "execution_count": 31,
     "metadata": {},
     "output_type": "execute_result"
    }
   ],
   "source": [
    "def fetch_relevant_tables_by_column(column_vector: Neo4jVector, prompt: str, top_k: int = 5) -> list:\n",
    "\n",
    "    similarity_search_result = column_vector.similarity_search_with_relevance_scores(query=prompt, k=top_k)\n",
    "\n",
    "    dict_list = [\n",
    "            {\n",
    "                'located_at': t[0].metadata['located_at'],\n",
    "                'score': t[1]\n",
    "            }\n",
    "        for t in similarity_search_result\n",
    "    ]\n",
    "\n",
    "    flattened_list = [(item, entry['score']) for entry in dict_list for item in entry['located_at']]\n",
    "\n",
    "    flattened_list.sort(key=lambda x: x[1], reverse=True)\n",
    "\n",
    "    seen = set()\n",
    "    relevant_tables = []\n",
    "    for item, score in flattened_list:\n",
    "        if item not in seen:\n",
    "            seen.add(item)\n",
    "            relevant_tables.append(item)\n",
    "\n",
    "    return relevant_tables\n",
    "\n",
    "fetch_relevant_tables_by_column(column_vector=column_vector, prompt='Quais os 5 produtos mais vendidos em 2018?')"
   ]
  },
  {
   "cell_type": "code",
   "execution_count": 75,
   "metadata": {},
   "outputs": [
    {
     "data": {
      "text/plain": [
       "['dim_products',\n",
       " 'dim_sellers',\n",
       " 'dim_customers',\n",
       " 'fact_orders',\n",
       " 'dim_order_items']"
      ]
     },
     "execution_count": 75,
     "metadata": {},
     "output_type": "execute_result"
    }
   ],
   "source": [
    "def fetch_relevant_tables(table_vector: Neo4jVector, prompt: str, top_k: int = 5) -> list:\n",
    "    \n",
    "    query_result = table_vector.similarity_search_with_relevance_scores(query=prompt, k=top_k)\n",
    "\n",
    "    dict_list = [\n",
    "            {\n",
    "                'table_name': t[0].metadata['table_full_name'].split('.')[1],\n",
    "                'score': t[1]\n",
    "            }\n",
    "        for t in query_result\n",
    "    ]\n",
    "    relevant_tables = [x['table_name'] for x in dict_list]\n",
    "\n",
    "    return relevant_tables\n",
    "\n",
    "\n",
    "fetch_relevant_tables(table_vector=table_vector, prompt='Quais os 5 produtos mais vendidos em 2018?')"
   ]
  },
  {
   "cell_type": "markdown",
   "metadata": {},
   "source": [
    "#### Fetching Columns related to relevant Tables"
   ]
  },
  {
   "cell_type": "code",
   "execution_count": 32,
   "metadata": {},
   "outputs": [],
   "source": [
    "relevant_tables = fetch_relevant_tables_by_column(prompt=\"Quais os 5 produtos mais vendidos em 2018?\", column_vector=column_vector)\n",
    "\n",
    "def fetch_table_columns(tables: list):\n",
    "\n",
    "    query_string = \"\"\" \n",
    "        MATCH (tb:Table)-[:HAS_COLUMN]->(col:Column)\n",
    "        WHERE tb.table_name in $relevant_tables\n",
    "        WITH tb, collect({\n",
    "            column_name: col.column_name,\n",
    "            data_type: col.data_type,\n",
    "            column_description: col.column_description\n",
    "        }) AS columns\n",
    "        RETURN {\n",
    "            database_name: tb.database_name,\n",
    "            table_name: tb.table_name,\n",
    "            table_description: tb.table_description,\n",
    "            table_columns: columns\n",
    "        } AS table\n",
    "    \"\"\"\n",
    "\n",
    "    params = {'relevant_tables': tables}\n",
    "\n",
    "    result = graph.query(query=query_string, params=params)\n",
    "\n",
    "    result = [x['table'] for x in result]\n",
    "\n",
    "    return result\n"
   ]
  },
  {
   "cell_type": "code",
   "execution_count": null,
   "metadata": {},
   "outputs": [],
   "source": [
    "\"\"\"\n",
    "MATCH (tb1:Table)-[:HAS_COLUMN]->(col:Column)<-[:HAS_COLUMN]-(tb2:Table)\n",
    "WHERE tb1.table_name in ['dim_order_items', 'dim_products', 'fact_orders']\n",
    "RETURN (tb1), (col), (tb2)\n",
    "\"\"\""
   ]
  },
  {
   "cell_type": "code",
   "execution_count": 50,
   "metadata": {},
   "outputs": [
    {
     "name": "stdout",
     "output_type": "stream",
     "text": [
      "\n",
      "\n",
      "Database: olist\n",
      "Tabela: dim_products\n",
      "Descrição: A tabela `dim_products` representa a dimensão produtos no e-commerce Olist. Nela são catalogados todos os produtos da plataforma do e-commerce assim como informações sobre eles como a categoria dos produtos, o peso, largura, comprimento, altura, comprimento da descrição do produto e quantidade de fotos disponíveis.\n",
      "Colunas: \n",
      "    nome: product_width_cm tipo: float descrição: A coluna `product_width_cm` apresenta a largura do produto em centímetros.\n",
      "    nome: product_height_cm tipo: float descrição: A coluna `product_height_cm` apresenta a altura do produto em centímetros.\n",
      "    nome: product_length_cm tipo: float descrição: A coluna `product_length_cm` apresenta o comprimento do produto em centímetros.\n",
      "    nome: product_weight_g tipo: float descrição: A coluna `product_weight` apresenta o peso em gramas do produto.\n",
      "    nome: product_photos_qty tipo: integer descrição: A coluna `product_photos_qty` contém a quantidade de fotos que existe no anúncio do produto\n",
      "    nome: product_description_length tipo: integer descrição: A coluna `product_description_length` representa o comprimento da descrição do produto em número de caracteres.\n",
      "    nome: product_name_length tipo: integer descrição: A coluna `product_name_length` representa o comprimento do nome do produto em número de caracteres.\n",
      "    nome: product_category_name tipo: string descrição: A coluna `product_category_name` é o nome da categoria do produto.\n",
      "    nome: product_id tipo: string descrição: A coluna `product_id` é um identificador único do produto.\n",
      "    \n",
      "\n"
     ]
    }
   ],
   "source": [
    "def get_sql_context(user_prompt: str) -> str:\n",
    "    relevant_tables = fetch_relevant_tables_by_column(prompt=user_prompt, column_vector=column_vector)\n",
    "\n",
    "    context = fetch_table_columns(tables=relevant_tables)\n",
    "\n",
    "    for table in context:\n",
    "\n",
    "        context_template = \"\"\n",
    "        \n",
    "        columns_text = \"\"\n",
    "        for column in table['table_columns']:\n",
    "            columns_text += ' '.join(['nome:', column['column_name'],'tipo:', column['data_type'], 'descrição:', column['column_description'] ])\n",
    "            columns_text += '\\n    '\n",
    "\n",
    "        context_template += f\"\"\"\n",
    "\n",
    "Database: {table['database_name']}\n",
    "Tabela: {table['table_name']}\n",
    "Descrição: {table['table_description']}\n",
    "Colunas: \n",
    "    {columns_text}\n",
    "\"\"\"\n",
    "\n",
    "    return context_template \n",
    "\n",
    "context=get_sql_context(user_prompt=\"Quais os 5 produtos mais vendidos em 2018?\")"
   ]
  },
  {
   "cell_type": "markdown",
   "metadata": {},
   "source": [
    "#### Creating Langchain Custom Retriever"
   ]
  },
  {
   "cell_type": "code",
   "execution_count": null,
   "metadata": {},
   "outputs": [],
   "source": [
    "from langchain.callbacks import BaseCallback\n",
    "\n",
    "class CustomFormatCallback(BaseCallback):\n",
    "    def on_retrieve(self, result, **kwargs):\n",
    "        # Customize the format of the retrieval result here\n",
    "        customized_result = [self.customize(entry) for entry in result]\n",
    "        return customized_result\n",
    "\n",
    "    def customize(self, entry):\n",
    "        # Define your custom format logic here\n",
    "        return {\n",
    "            'id': entry['id'],\n",
    "            'custom_field': entry['some_other_field'],\n",
    "            # add other custom fields as needed\n",
    "        }\n",
    "\n",
    "# Use the callback when creating the retriever\n"
   ]
  },
  {
   "cell_type": "code",
   "execution_count": 74,
   "metadata": {},
   "outputs": [
    {
     "ename": "ImportError",
     "evalue": "cannot import name 'BaseCallback' from 'langchain.callbacks' (c:\\Users\\Gabriel Marques\\github\\graphrag\\.venv\\Lib\\site-packages\\langchain\\callbacks\\__init__.py)",
     "output_type": "error",
     "traceback": [
      "\u001b[1;31m---------------------------------------------------------------------------\u001b[0m",
      "\u001b[1;31mImportError\u001b[0m                               Traceback (most recent call last)",
      "Cell \u001b[1;32mIn[74], line 3\u001b[0m\n\u001b[0;32m      1\u001b[0m \u001b[38;5;28;01mfrom\u001b[39;00m \u001b[38;5;21;01mlangchain_core\u001b[39;00m\u001b[38;5;21;01m.\u001b[39;00m\u001b[38;5;21;01mprompts\u001b[39;00m \u001b[38;5;28;01mimport\u001b[39;00m ChatPromptTemplate\n\u001b[0;32m      2\u001b[0m \u001b[38;5;28;01mfrom\u001b[39;00m \u001b[38;5;21;01mlangchain_core\u001b[39;00m\u001b[38;5;21;01m.\u001b[39;00m\u001b[38;5;21;01mrunnables\u001b[39;00m \u001b[38;5;28;01mimport\u001b[39;00m RunnablePassthrough, RunnableParallel\n\u001b[1;32m----> 3\u001b[0m \u001b[38;5;28;01mfrom\u001b[39;00m \u001b[38;5;21;01mlangchain\u001b[39;00m\u001b[38;5;21;01m.\u001b[39;00m\u001b[38;5;21;01mcallbacks\u001b[39;00m \u001b[38;5;28;01mimport\u001b[39;00m BaseCallback\n\u001b[0;32m      4\u001b[0m \u001b[38;5;28;01mfrom\u001b[39;00m \u001b[38;5;21;01mlangchain\u001b[39;00m\u001b[38;5;21;01m.\u001b[39;00m\u001b[38;5;21;01mcallbacks\u001b[39;00m\u001b[38;5;21;01m.\u001b[39;00m\u001b[38;5;21;01mtracers\u001b[39;00m \u001b[38;5;28;01mimport\u001b[39;00m ConsoleCallbackHandler\n\u001b[0;32m      5\u001b[0m \u001b[38;5;28;01mfrom\u001b[39;00m \u001b[38;5;21;01mlangchain_core\u001b[39;00m\u001b[38;5;21;01m.\u001b[39;00m\u001b[38;5;21;01moutput_parsers\u001b[39;00m \u001b[38;5;28;01mimport\u001b[39;00m PydanticOutputParser\n",
      "\u001b[1;31mImportError\u001b[0m: cannot import name 'BaseCallback' from 'langchain.callbacks' (c:\\Users\\Gabriel Marques\\github\\graphrag\\.venv\\Lib\\site-packages\\langchain\\callbacks\\__init__.py)"
     ]
    }
   ],
   "source": [
    "from langchain_core.prompts import ChatPromptTemplate\n",
    "from langchain_core.runnables import RunnablePassthrough, RunnableParallel\n",
    "from langchain.callbacks import BaseCallback\n",
    "from langchain.callbacks.tracers import ConsoleCallbackHandler\n",
    "from langchain_core.output_parsers import PydanticOutputParser\n",
    "from langchain_openai import ChatOpenAI\n",
    "from pydantic import BaseModel, Field\n",
    "\n",
    "from langchain.globals import set_verbose\n",
    "\n",
    "set_verbose(True)\n",
    "\n",
    "model = ChatOpenAI(model=\"gpt-3.5-turbo\")\n",
    "\n",
    "class RetrievalFormatCallback(BaseCallback):\n",
    "\n",
    "    def on_retrieve(self, result, **kwargs):\n",
    "\n",
    "        list_of_tables_list =  [entry.metadata['located_at'] for entry in result]\n",
    "\n",
    "        relevant_tables_duplicated = [item for sublist in list_of_tables_list for item in sublist]\n",
    "\n",
    "        relevant_tables = list(set(relevant_tables_duplicated))\n",
    "\n",
    "        query_string = \"\"\" \n",
    "        MATCH (tb:Table)-[:HAS_COLUMN]->(col:Column)\n",
    "        WHERE tb.table_name in $relevant_tables\n",
    "        WITH tb, collect({\n",
    "            column_name: col.column_name,\n",
    "            data_type: col.data_type,\n",
    "            column_description: col.column_description\n",
    "        }) AS columns\n",
    "        RETURN {\n",
    "            database_name: tb.database_name,\n",
    "            table_name: tb.table_name,\n",
    "            table_description: tb.table_description,\n",
    "            table_columns: columns\n",
    "        } AS table\n",
    "        \"\"\"\n",
    "\n",
    "        params = {'relevant_tables': relevant_tables}\n",
    "\n",
    "        NEO4J_URL = os.getenv(\"NEO4J_CONNECTION_URL\")\n",
    "        NEO4J_USERNAME = os.getenv(\"NEO4J_USER\")\n",
    "        NEO4J_PASSWORD = os.getenv(\"NEO4J_PASSWORD\")\n",
    "\n",
    "        graph = Neo4jGraph(\n",
    "            url=NEO4J_URL,\n",
    "            username=NEO4J_USERNAME,\n",
    "            password=NEO4J_PASSWORD\n",
    "        )\n",
    "\n",
    "        result = graph.query(query=query_string, params=params)\n",
    "\n",
    "        result = [x['table'] for x in result]\n",
    "\n",
    "        for table in result:\n",
    "\n",
    "            context_template = \"\"\n",
    "            \n",
    "            columns_text = \"\"\n",
    "            for column in table['table_columns']:\n",
    "                columns_text += ' '.join(['nome:', column['column_name'],'tipo:', column['data_type'], 'descrição:', column['column_description'] ])\n",
    "                columns_text += '\\n    '\n",
    "\n",
    "            context_template += f\"\"\"\n",
    "Database: {table['database_name']}\n",
    "Tabela: {table['table_name']}\n",
    "Descrição: {table['table_description']}\n",
    "Colunas: \n",
    "    {columns_text}\n",
    "\"\"\"\n",
    "\n",
    "        return context_template \n",
    "    \n",
    "\n",
    "retriever = table_vector.as_retriever(callbacks=[RetrievalFormatCallback()])\n",
    "\n",
    "class SqlResponse(BaseModel):\n",
    "    input: str = Field(description=\"O prompt original do usuário.\")\n",
    "    output: str = Field(description=\"O código SQL que responde a pergunta do usuário.\")\n",
    "\n",
    "parser = PydanticOutputParser(pydantic_object=SqlResponse)\n",
    "\n",
    "system_message = \"\"\"\n",
    "Você é um especialista em SQL responsável por gerar uma consulta SQL\n",
    "compatível com Trino e que responda a pergunta do usuário.\n",
    "Sua consulta deverá ser formatada, tabulada e utilizar aliases para\n",
    "evitar ambiguidades.\n",
    "Sua resposta devera ser apenas código SQL, não complemente sua resposta.\n",
    "\n",
    "Utilize o contexto fornecido para construir a consulta SQL:\n",
    "{context}\n",
    "\n",
    "Responda a pergunta do usuário. Armazena sua resposta em um objeto JSON.\n",
    "{format_instructions}\n",
    "\"\"\"\n",
    "\n",
    "user_message = \"\"\"\n",
    "{question}\n",
    "\"\"\"\n",
    "\n",
    "prompt_template = ChatPromptTemplate.from_messages(\n",
    "    [\n",
    "        (\"system\", system_message),\n",
    "        (\"user\", user_message)\n",
    "    ]\n",
    ").partial(format_instructions=parser.get_format_instructions())\n",
    "\n",
    "setup_and_retrieval = RunnableParallel(\n",
    "    {\"context\": retriever, \"question\": RunnablePassthrough()}\n",
    ")\n",
    "\n",
    "chain = setup_and_retrieval | prompt_template | model | parser"
   ]
  },
  {
   "cell_type": "code",
   "execution_count": 72,
   "metadata": {},
   "outputs": [
    {
     "name": "stdout",
     "output_type": "stream",
     "text": [
      "\u001b[32;1m\u001b[1;3m[chain/start]\u001b[0m \u001b[1m[chain:RunnableSequence] Entering Chain run with input:\n",
      "\u001b[0m{\n",
      "  \"input\": \"Quais os 5 produtos mais vendidos em 2018?\"\n",
      "}\n",
      "\u001b[32;1m\u001b[1;3m[chain/start]\u001b[0m \u001b[1m[chain:RunnableSequence > chain:RunnableParallel<context,question>] Entering Chain run with input:\n",
      "\u001b[0m{\n",
      "  \"input\": \"Quais os 5 produtos mais vendidos em 2018?\"\n",
      "}\n",
      "\u001b[32;1m\u001b[1;3m[chain/start]\u001b[0m \u001b[1m[chain:RunnableSequence > chain:RunnableParallel<context,question> > chain:RunnablePassthrough] Entering Chain run with input:\n",
      "\u001b[0m{\n",
      "  \"input\": \"Quais os 5 produtos mais vendidos em 2018?\"\n",
      "}\n",
      "\u001b[36;1m\u001b[1;3m[chain/end]\u001b[0m \u001b[1m[chain:RunnableSequence > chain:RunnableParallel<context,question> > chain:RunnablePassthrough] [1ms] Exiting Chain run with output:\n",
      "\u001b[0m{\n",
      "  \"output\": \"Quais os 5 produtos mais vendidos em 2018?\"\n",
      "}\n",
      "\u001b[36;1m\u001b[1;3m[chain/end]\u001b[0m \u001b[1m[chain:RunnableSequence > chain:RunnableParallel<context,question>] [809ms] Exiting Chain run with output:\n",
      "\u001b[0m[outputs]\n",
      "\u001b[32;1m\u001b[1;3m[chain/start]\u001b[0m \u001b[1m[chain:RunnableSequence > prompt:ChatPromptTemplate] Entering Prompt run with input:\n",
      "\u001b[0m[inputs]\n",
      "\u001b[36;1m\u001b[1;3m[chain/end]\u001b[0m \u001b[1m[chain:RunnableSequence > prompt:ChatPromptTemplate] [1ms] Exiting Prompt run with output:\n",
      "\u001b[0m[outputs]\n",
      "\u001b[32;1m\u001b[1;3m[llm/start]\u001b[0m \u001b[1m[chain:RunnableSequence > llm:ChatOpenAI] Entering LLM run with input:\n",
      "\u001b[0m{\n",
      "  \"prompts\": [\n",
      "    \"System: \\nVocê é um especialista em SQL responsável por gerar uma consulta SQL\\ncompatível com Trino e que responda a pergunta do usuário.\\nSua consulta deverá ser formatada, tabulada e utilizar aliases para\\nevitar ambiguidades.\\nSua resposta devera ser apenas código SQL, não complemente sua resposta.\\n\\nUtilize o contexto fornecido para construir a consulta SQL:\\n[Document(page_content='\\\\ntable_name: dim_products\\\\ntable_logic_name: Tabela dimensão de produtos\\\\ntable_description: A tabela `dim_products` representa a dimensão produtos no e-commerce Olist. Nela são catalogados todos os produtos da plataforma do e-commerce assim como informações sobre eles como a categoria dos produtos, o peso, largura, comprimento, altura, comprimento da descrição do produto e quantidade de fotos disponíveis.', metadata={'database_name': 'olist', 'table_full_name': 'olist.dim_products', 'table_primary_key': ['product_id'], 'table_columns': ['product_id', 'product_category_name', 'product_name_length', 'product_description_length', 'product_photos_qty', 'product_weight_g', 'product_length_cm', 'product_height_cm', 'product_width_cm']}), Document(page_content='\\\\ntable_name: dim_sellers\\\\ntable_logic_name: Tabela dimensão de vendedores\\\\ntable_description: A tabela `dim_sellers` contém todos os vendedores da plataforma. A tabela contem identificação do vendedor, seu prefixo de código postal (CEP), sua cidade e seu estado ou UF (Unidade Federativa). No e-commerce cada produto pode ser vendido por um vendedor distinto e cada pedido pode ter produtos de vendedores distintos.', metadata={'database_name': 'olist', 'table_full_name': 'olist.dim_sellers', 'table_primary_key': ['seller_id'], 'table_columns': ['seller_id', 'seller_zip_code_prefix', 'seller_city', 'seller_state']}), Document(page_content='\\\\ntable_name: dim_customers\\\\ntable_logic_name: Tabela dimensão de clientes\\\\ntable_description: A tabela `dim_customers` contém informações dos clientes do e-commerce Olist. A tabela contém informações como código indentificador do cliente, prefixo do código postal (CEP) além de cidade e estado ou UF (unidade federativa) de residência.', metadata={'database_name': 'olist', 'table_full_name': 'olist.dim_customers', 'table_primary_key': ['customer_id'], 'table_columns': ['customer_id', 'customer_unique_id', 'customer_zip_code_prefix', 'customer_city', 'customer_state']}), Document(page_content='\\\\ntable_name: fact_orders\\\\ntable_logic_name: Tabela fato de pedidos\\\\ntable_description: A tabela `fact_orders` contém todos os pedidos realizados na plataforma de e-commerce Olist. A tabela contém informações dos pedidos como identificação do pedido, status do pedido, data da compra, data da entrega, identificador do cliente,', metadata={'database_name': 'olist', 'table_full_name': 'olist.fact_orders', 'table_primary_key': ['order_id'], 'table_columns': ['order_id', 'customer_id', 'order_status', 'order_purchase_timestamp', 'order_approved_at', 'order_delivered_carrier_date', 'order_delivered_customer_date', 'order_estimated_delivery_date']})]\\n\\nResponda a pergunta do usuário. Armazena sua resposta em um objeto JSON.\\nThe output should be formatted as a JSON instance that conforms to the JSON schema below.\\n\\nAs an example, for the schema {\\\"properties\\\": {\\\"foo\\\": {\\\"title\\\": \\\"Foo\\\", \\\"description\\\": \\\"a list of strings\\\", \\\"type\\\": \\\"array\\\", \\\"items\\\": {\\\"type\\\": \\\"string\\\"}}}, \\\"required\\\": [\\\"foo\\\"]}\\nthe object {\\\"foo\\\": [\\\"bar\\\", \\\"baz\\\"]} is a well-formatted instance of the schema. The object {\\\"properties\\\": {\\\"foo\\\": [\\\"bar\\\", \\\"baz\\\"]}} is not well-formatted.\\n\\nHere is the output schema:\\n```\\n{\\\"properties\\\": {\\\"input\\\": {\\\"description\\\": \\\"O prompt original do usu\\\\u00e1rio.\\\", \\\"title\\\": \\\"Input\\\", \\\"type\\\": \\\"string\\\"}, \\\"output\\\": {\\\"description\\\": \\\"O c\\\\u00f3digo SQL que responde a pergunta do usu\\\\u00e1rio.\\\", \\\"title\\\": \\\"Output\\\", \\\"type\\\": \\\"string\\\"}}, \\\"required\\\": [\\\"input\\\", \\\"output\\\"]}\\n```\\n\\nHuman: \\nQuais os 5 produtos mais vendidos em 2018?\"\n",
      "  ]\n",
      "}\n",
      "\u001b[36;1m\u001b[1;3m[llm/end]\u001b[0m \u001b[1m[chain:RunnableSequence > llm:ChatOpenAI] [2.60s] Exiting LLM run with output:\n",
      "\u001b[0m{\n",
      "  \"generations\": [\n",
      "    [\n",
      "      {\n",
      "        \"text\": \"{\\n\\t\\\"input\\\": \\\"Quais os 5 produtos mais vendidos em 2018?\\\",\\n\\t\\\"output\\\": \\\"SELECT dp.product_id, dp.product_category_name, COUNT(fo.order_id) AS total_orders\\\\nFROM olist.dim_products dp\\\\nJOIN olist.fact_orders fo ON dp.product_id = fo.product_id\\\\nWHERE EXTRACT(YEAR FROM fo.order_purchase_timestamp) = 2018\\\\nGROUP BY dp.product_id, dp.product_category_name\\\\nORDER BY total_orders DESC\\\\nLIMIT 5;\\\"\\n}\",\n",
      "        \"generation_info\": {\n",
      "          \"finish_reason\": \"stop\",\n",
      "          \"logprobs\": null\n",
      "        },\n",
      "        \"type\": \"ChatGeneration\",\n",
      "        \"message\": {\n",
      "          \"lc\": 1,\n",
      "          \"type\": \"constructor\",\n",
      "          \"id\": [\n",
      "            \"langchain\",\n",
      "            \"schema\",\n",
      "            \"messages\",\n",
      "            \"AIMessage\"\n",
      "          ],\n",
      "          \"kwargs\": {\n",
      "            \"content\": \"{\\n\\t\\\"input\\\": \\\"Quais os 5 produtos mais vendidos em 2018?\\\",\\n\\t\\\"output\\\": \\\"SELECT dp.product_id, dp.product_category_name, COUNT(fo.order_id) AS total_orders\\\\nFROM olist.dim_products dp\\\\nJOIN olist.fact_orders fo ON dp.product_id = fo.product_id\\\\nWHERE EXTRACT(YEAR FROM fo.order_purchase_timestamp) = 2018\\\\nGROUP BY dp.product_id, dp.product_category_name\\\\nORDER BY total_orders DESC\\\\nLIMIT 5;\\\"\\n}\",\n",
      "            \"response_metadata\": {\n",
      "              \"token_usage\": {\n",
      "                \"completion_tokens\": 106,\n",
      "                \"prompt_tokens\": 968,\n",
      "                \"total_tokens\": 1074\n",
      "              },\n",
      "              \"model_name\": \"gpt-3.5-turbo\",\n",
      "              \"system_fingerprint\": null,\n",
      "              \"finish_reason\": \"stop\",\n",
      "              \"logprobs\": null\n",
      "            },\n",
      "            \"type\": \"ai\",\n",
      "            \"id\": \"run-b3f4da29-5fbd-4596-9093-a823c1310073-0\",\n",
      "            \"usage_metadata\": {\n",
      "              \"input_tokens\": 968,\n",
      "              \"output_tokens\": 106,\n",
      "              \"total_tokens\": 1074\n",
      "            },\n",
      "            \"tool_calls\": [],\n",
      "            \"invalid_tool_calls\": []\n",
      "          }\n",
      "        }\n",
      "      }\n",
      "    ]\n",
      "  ],\n",
      "  \"llm_output\": {\n",
      "    \"token_usage\": {\n",
      "      \"completion_tokens\": 106,\n",
      "      \"prompt_tokens\": 968,\n",
      "      \"total_tokens\": 1074\n",
      "    },\n",
      "    \"model_name\": \"gpt-3.5-turbo\",\n",
      "    \"system_fingerprint\": null\n",
      "  },\n",
      "  \"run\": null\n",
      "}\n",
      "\u001b[32;1m\u001b[1;3m[chain/start]\u001b[0m \u001b[1m[chain:RunnableSequence > parser:PydanticOutputParser] Entering Parser run with input:\n",
      "\u001b[0m[inputs]\n",
      "\u001b[36;1m\u001b[1;3m[chain/end]\u001b[0m \u001b[1m[chain:RunnableSequence > parser:PydanticOutputParser] [1ms] Exiting Parser run with output:\n",
      "\u001b[0m[outputs]\n",
      "\u001b[36;1m\u001b[1;3m[chain/end]\u001b[0m \u001b[1m[chain:RunnableSequence] [3.42s] Exiting Chain run with output:\n",
      "\u001b[0m[outputs]\n",
      "SELECT dp.product_id, dp.product_category_name, COUNT(fo.order_id) AS total_orders\n",
      "FROM olist.dim_products dp\n",
      "JOIN olist.fact_orders fo ON dp.product_id = fo.product_id\n",
      "WHERE EXTRACT(YEAR FROM fo.order_purchase_timestamp) = 2018\n",
      "GROUP BY dp.product_id, dp.product_category_name\n",
      "ORDER BY total_orders DESC\n",
      "LIMIT 5;\n"
     ]
    }
   ],
   "source": [
    "response = chain.invoke(\"Quais os 5 produtos mais vendidos em 2018?\",  config={'callbacks': [ConsoleCallbackHandler()]})\n",
    "print(response.output)"
   ]
  },
  {
   "cell_type": "code",
   "execution_count": 8,
   "metadata": {},
   "outputs": [],
   "source": [
    "\n",
    "graph = Neo4jGraph(\n",
    "    url=NEO4J_URL,\n",
    "    username=NEO4J_USERNAME,\n",
    "    password=NEO4J_PASSWORD,\n",
    "    database='neo4j'\n",
    ")"
   ]
  },
  {
   "cell_type": "code",
   "execution_count": 9,
   "metadata": {},
   "outputs": [],
   "source": [
    "schema_description = graph.query(\n",
    "    query=\"CALL apoc.ml.schema({apiKey: $openai_api_key, model: 'gpt-4o'}) yield value RETURN *\",\n",
    "    params={\"openai_api_key\": OPENAI_API_KEY}\n",
    "    )"
   ]
  },
  {
   "cell_type": "code",
   "execution_count": 10,
   "metadata": {},
   "outputs": [
    {
     "name": "stdout",
     "output_type": "stream",
     "text": [
      "This database schema models information about databases and tables. \n",
      "1. **Database Node:** Represents a database with descriptions and text embeddings, like a library.\n",
      "2. **Table Node:** Represents a table within a database, including columns, primary keys, and descriptions.\n",
      "3. **CONTAINS Relationship:** Links a database to the tables it holds, similar to library sections.\n",
      "4. **HAS_COLUMN Relationship:** Connects tables to their columns, analogous to chapters within a book.\n",
      "5. **Patterns:** Visualize databases containing tables, and tables having columns, like a nested file system.\n"
     ]
    }
   ],
   "source": [
    "print(schema_description[0][\"value\"])"
   ]
  },
  {
   "cell_type": "markdown",
   "metadata": {},
   "source": [
    "## Creating Agents"
   ]
  },
  {
   "cell_type": "code",
   "execution_count": 395,
   "metadata": {},
   "outputs": [],
   "source": [
    "from langchain_openai import ChatOpenAI\n",
    "from langchain_core.prompts import ChatPromptTemplate\n",
    "from typing import List\n",
    "from langchain_core.output_parsers import PydanticOutputParser\n",
    "from pydantic import BaseModel, Field\n",
    "\n",
    "llm = ChatOpenAI(model='gpt-4o')\n"
   ]
  },
  {
   "cell_type": "code",
   "execution_count": 14,
   "metadata": {},
   "outputs": [
    {
     "name": "stdout",
     "output_type": "stream",
     "text": [
      "Node properties:\n",
      "Database {database_description: STRING, database_name: STRING, database_tables: LIST, text_embeddings: LIST}\n",
      "Table {table_logic_name: STRING, text_embeddings: LIST, table_name: STRING, table_columns: LIST, table_primary_key: LIST, database_name: STRING, table_full_name: STRING, table_description: STRING}\n",
      "Column {text_embeddings: LIST, data_type: STRING, is_primary_key_at: LIST, is_foreign_key_at: LIST, column_name: STRING, column_description: STRING, located_at: LIST}\n",
      "Relationship properties:\n",
      "\n",
      "The relationships:\n",
      "(:Database)-[:CONTAINS]->(:Table)\n",
      "(:Table)-[:HAS_COLUMN]->(:Column)\n",
      "(:Column)-[:IS_FOREIGN_KEY]->(:Table)\n",
      "(:Column)-[:IS_PRIMARY_KEY]->(:Table)\n"
     ]
    }
   ],
   "source": [
    "print(graph.get_schema)"
   ]
  },
  {
   "cell_type": "markdown",
   "metadata": {},
   "source": [
    "#### Query Expansion Agent"
   ]
  },
  {
   "cell_type": "code",
   "execution_count": 51,
   "metadata": {},
   "outputs": [
    {
     "ename": "NameError",
     "evalue": "name 'BaseModel' is not defined",
     "output_type": "error",
     "traceback": [
      "\u001b[1;31m---------------------------------------------------------------------------\u001b[0m",
      "\u001b[1;31mNameError\u001b[0m                                 Traceback (most recent call last)",
      "Cell \u001b[1;32mIn[51], line 1\u001b[0m\n\u001b[1;32m----> 1\u001b[0m \u001b[38;5;28;01mclass\u001b[39;00m \u001b[38;5;21;01mQueryExpansionResponse\u001b[39;00m(\u001b[43mBaseModel\u001b[49m):\n\u001b[0;32m      2\u001b[0m     \u001b[38;5;28minput\u001b[39m: \u001b[38;5;28mstr\u001b[39m \u001b[38;5;241m=\u001b[39m Field(description\u001b[38;5;241m=\u001b[39m\u001b[38;5;124m\"\u001b[39m\u001b[38;5;124mThe original user prompt.\u001b[39m\u001b[38;5;124m\"\u001b[39m)\n\u001b[0;32m      3\u001b[0m     output: List[\u001b[38;5;28mstr\u001b[39m] \u001b[38;5;241m=\u001b[39m Field(description\u001b[38;5;241m=\u001b[39m\u001b[38;5;124m\"\u001b[39m\u001b[38;5;124mA list of sentences.\u001b[39m\u001b[38;5;124m\"\u001b[39m)\n",
      "\u001b[1;31mNameError\u001b[0m: name 'BaseModel' is not defined"
     ]
    }
   ],
   "source": [
    "class QueryExpansionResponse(BaseModel):\n",
    "    input: str = Field(description=\"The original user prompt.\")\n",
    "    output: List[str] = Field(description=\"A list of sentences.\")\n",
    "\n",
    "parser = PydanticOutputParser(pydantic_object=QueryExpansionResponse)\n",
    "\n",
    "prompt = ChatPromptTemplate.from_messages([\n",
    "    (\"system\", \n",
    "     \"\"\"\n",
    "Você é um especialista em parafrasear frases.\n",
    "O usuário irá te enviar uma pergunta ou solicitação\n",
    "e você deverá parafraseá-la.\n",
    "Mantenha o sentido original da frase.\n",
    "As frases devem ser em português brasileiro.\n",
    "Gere pelo menos 5 frases diferentes.\n",
    "Sua resposta deverá ser apenas a lista de frase separadas por vírgulas.\n",
    "Não complemente ou formate sua resposta com caracteres especiais ou de escape.\n",
    "\"Answer the user query. Wrap the output in `json` tags\\n{format_instructions}\"\n",
    "     \"\"\"),\n",
    "    (\"user\", \"{input}\")\n",
    "]).partial(format_instructions=parser.get_format_instructions())\n",
    "\n",
    "query_expansion_chain = prompt | llm | parser\n"
   ]
  },
  {
   "cell_type": "code",
   "execution_count": 401,
   "metadata": {},
   "outputs": [
    {
     "data": {
      "text/plain": [
       "['Quais foram os 5 produtos mais populares em vendas em 2018?',\n",
       " 'Quais são os cinco itens com maior número de vendas em 2018?',\n",
       " 'Quais os cinco produtos com mais comercialização em 2018?',\n",
       " 'Quais foram os produtos mais vendidos no ano de 2018?',\n",
       " 'Quais são os top 5 produtos mais vendidos em 2018?']"
      ]
     },
     "execution_count": 401,
     "metadata": {},
     "output_type": "execute_result"
    }
   ],
   "source": [
    "paraphrased_prompt = query_expansion_chain.invoke({\"input\": \"Quais os 5 produtos mais vendidos em 2018?\"})\n",
    "paraphrased_prompt.output"
   ]
  },
  {
   "cell_type": "code",
   "execution_count": 397,
   "metadata": {},
   "outputs": [],
   "source": [
    "prompt = ChatPromptTemplate.from_messages([\n",
    "    (\"system\", \n",
    "     \"\"\"\n",
    "Você é um especialista em análise de negócios e investigação.\n",
    "O usuário irá te enviar uma pergunta ou solicitação.\n",
    "Você deve criar pelo menos outras 5 perguntas que colaborem\n",
    "para o usuário tenha sua pergunta respondida.\n",
    "\n",
    "\"Answer the user query. Wrap the output in `json` tags\\n{format_instructions}\"\n",
    "     \"\"\"),\n",
    "    (\"user\", \"{input}\")\n",
    "]).partial(format_instructions=parser.get_format_instructions())\n",
    "\n",
    "query_expansion_chain = prompt | llm | parser"
   ]
  },
  {
   "cell_type": "code",
   "execution_count": 398,
   "metadata": {},
   "outputs": [
    {
     "data": {
      "text/plain": [
       "['Qual é o setor ou indústria de interesse?',\n",
       " 'A que região ou país você está se referindo?',\n",
       " 'Você está interessado em produtos físicos, digitais ou ambos?',\n",
       " 'Você tem uma fonte de dados específica ou um site de referência em mente?',\n",
       " 'Você está se referindo a unidades vendidas ou ao valor de vendas?']"
      ]
     },
     "execution_count": 398,
     "metadata": {},
     "output_type": "execute_result"
    }
   ],
   "source": [
    "paraphrased_prompt = query_expansion_chain.invoke({\"input\": \"Quais os 5 produtos mais vendidos em 2018?\"})\n",
    "paraphrased_prompt.output"
   ]
  },
  {
   "cell_type": "markdown",
   "metadata": {},
   "source": [
    "#### SQL Agent"
   ]
  },
  {
   "cell_type": "code",
   "execution_count": 409,
   "metadata": {},
   "outputs": [],
   "source": [
    "from langchain.chains.combine_documents import create_stuff_documents_chain\n",
    "from langchain.chains import create_retrieval_chain\n",
    "from langchain import hub\n",
    "\n",
    "\n"
   ]
  },
  {
   "cell_type": "code",
   "execution_count": 412,
   "metadata": {},
   "outputs": [
    {
     "data": {
      "text/plain": [
       "{'input': 'Quais os 5 produtos mais vendidos em 2018?',\n",
       " 'context': [Document(page_content='\\ntable_name: dim_products\\ntable_logic_name: Tabela dimensão de produtos\\ntable_description: A tabela `dim_products` representa a dimensão produtos no e-commerce Olist. Nela são catalogados todos os produtos da plataforma do e-commerce assim como informações sobre eles como a categoria dos produtos, o peso, largura, comprimento, altura, comprimento da descrição do produto e quantidade de fotos disponíveis.', metadata={'database_name': 'olist', 'table_full_name': 'olist.dim_products', 'table_primary_key': ['product_id'], 'table_columns': ['product_id', 'product_category_name', 'product_name_length', 'product_description_length', 'product_photos_qty', 'product_weight_g', 'product_length_cm', 'product_height_cm', 'product_width_cm']}),\n",
       "  Document(page_content='\\ntable_name: dim_sellers\\ntable_logic_name: Tabela dimensão de vendedores\\ntable_description: A tabela `dim_sellers` contém todos os vendedores da plataforma. A tabela contem identificação do vendedor, seu prefixo de código postal (CEP), sua cidade e seu estado ou UF (Unidade Federativa). No e-commerce cada produto pode ser vendido por um vendedor distinto e cada pedido pode ter produtos de vendedores distintos.', metadata={'database_name': 'olist', 'table_full_name': 'olist.dim_sellers', 'table_primary_key': ['seller_id'], 'table_columns': ['seller_id', 'seller_zip_code_prefix', 'seller_city', 'seller_state']}),\n",
       "  Document(page_content='\\ntable_name: dim_customers\\ntable_logic_name: Tabela dimensão de clientes\\ntable_description: A tabela `dim_customers` contém informações dos clientes do e-commerce Olist. A tabela contém informações como código indentificador do cliente, prefixo do código postal (CEP) além de cidade e estado ou UF (unidade federativa) de residência.', metadata={'database_name': 'olist', 'table_full_name': 'olist.dim_customers', 'table_primary_key': ['customer_id'], 'table_columns': ['customer_id', 'customer_unique_id', 'customer_zip_code_prefix', 'customer_city', 'customer_state']}),\n",
       "  Document(page_content='\\ntable_name: fact_orders\\ntable_logic_name: Tabela fato de pedidos\\ntable_description: A tabela `fact_orders` contém todos os pedidos realizados na plataforma de e-commerce Olist. A tabela contém informações dos pedidos como identificação do pedido, status do pedido, data da compra, data da entrega, identificador do cliente,', metadata={'database_name': 'olist', 'table_full_name': 'olist.fact_orders', 'table_primary_key': ['order_id'], 'table_columns': ['order_id', 'customer_id', 'order_status', 'order_purchase_timestamp', 'order_approved_at', 'order_delivered_carrier_date', 'order_delivered_customer_date', 'order_estimated_delivery_date']})],\n",
       " 'answer': 'O contexto fornecido não contém informações específicas sobre os produtos mais vendidos em 2018. Os dados disponíveis apenas descrevem a estrutura e o propósito das tabelas `dim_products`, `dim_sellers`, `dim_customers` e `fact_orders`. Para obter a lista dos 5 produtos mais vendidos em 2018, seria necessário acessar os registros detalhados de vendas na tabela `fact_orders` e cruzar esses dados com a tabela `dim_products`.\\n\\nSe você tiver acesso ao banco de dados, pode executar uma consulta SQL semelhante à seguinte:\\n\\n```sql\\nSELECT p.product_name, COUNT(o.order_id) AS total_sales\\nFROM fact_orders o\\nJOIN dim_products p ON o.product_id = p.product_id\\nWHERE YEAR(o.order_date) = 2018\\nGROUP BY p.product_name\\nORDER BY total_sales DESC\\nLIMIT 5;\\n```\\n\\nEssa consulta presumiria que `fact_orders` contém colunas como `order_id`, `product_id`, e `order_date`, e que `dim_products` contém colunas como `product_id` e `product_name`. Verifique a estrutura das tabelas e ajuste a consulta conforme necessário.'}"
      ]
     },
     "execution_count": 412,
     "metadata": {},
     "output_type": "execute_result"
    }
   ],
   "source": [
    "sql_prompt_template = ChatPromptTemplate.from_messages([\n",
    "    (\"system\", \n",
    "     \"\"\"\n",
    "Você é um especialista em SQL responsável por gerar uma consulta SQL\n",
    "compatível com Trino e que responda a pergunta do usuário.\n",
    "Sua consulta deverá ser formatada, tabulada e utilizar aliases para\n",
    "evitar ambiguidades. Caso precise gerar uma ou mais subqueries,\n",
    "prefira utilizar CTEs (Common Table Expressions).\n",
    "Sua resposta devera ser apenas código SQL, não complemente sua resposta.\n",
    "\n",
    "Utilize o contexto fornecido para construir a consulta SQL:\n",
    "{context}\n",
    "\n",
    "Answer the user query. Wrap the output in `json` tags\n",
    "{format_instructions} \"\"\"),\n",
    "    (\"user\", \"{input}\")\n",
    "]).partial(format_instructions=parser.get_format_instructions())\n",
    "\n",
    "retrieval_qa_chat_prompt = hub.pull(\"langchain-ai/retrieval-qa-chat\")\n",
    "combine_docs_chain = create_stuff_documents_chain(\n",
    "    llm, retrieval_qa_chat_prompt\n",
    ")\n",
    "\n",
    "sql_agent = create_retrieval_chain(retriever=table_vector.as_retriever(), combine_docs_chain=combine_docs_chain)\n",
    "\n",
    "sql_agent.invoke(\n",
    "    {\n",
    "        \"input\": \"Quais os 5 produtos mais vendidos em 2018?\",\n",
    "        \"context\": \n",
    "    }\n",
    ")\n"
   ]
  }
 ],
 "metadata": {
  "kernelspec": {
   "display_name": ".venv",
   "language": "python",
   "name": "python3"
  },
  "language_info": {
   "codemirror_mode": {
    "name": "ipython",
    "version": 3
   },
   "file_extension": ".py",
   "mimetype": "text/x-python",
   "name": "python",
   "nbconvert_exporter": "python",
   "pygments_lexer": "ipython3",
   "version": "3.11.4"
  }
 },
 "nbformat": 4,
 "nbformat_minor": 2
}
